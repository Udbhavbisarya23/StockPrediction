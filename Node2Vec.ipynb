{
  "nbformat": 4,
  "nbformat_minor": 0,
  "metadata": {
    "colab": {
      "name": "Node2Vec.ipynb",
      "provenance": [],
      "collapsed_sections": [],
      "include_colab_link": true
    },
    "kernelspec": {
      "display_name": "Python 3",
      "name": "python3"
    },
    "language_info": {
      "name": "python"
    }
  },
  "cells": [
    {
      "cell_type": "markdown",
      "metadata": {
        "id": "view-in-github",
        "colab_type": "text"
      },
      "source": [
        "<a href=\"https://colab.research.google.com/github/Udbhavbisarya23/StockPrediction/blob/main/Node2Vec.ipynb\" target=\"_parent\"><img src=\"https://colab.research.google.com/assets/colab-badge.svg\" alt=\"Open In Colab\"/></a>"
      ]
    },
    {
      "cell_type": "code",
      "metadata": {
        "colab": {
          "base_uri": "https://localhost:8080/"
        },
        "id": "qlReaVX47Qk7",
        "outputId": "6c9a148d-991a-41c6-adbb-226a458dd041"
      },
      "source": [
        "!pip3 install pandas\n",
        "!pip3 install openpyxl\n",
        "!pip3 install networkx\n",
        "!pip3 install node2vec\n",
        "!pip3 install numpy\n",
        "!pip3 install stellargraph"
      ],
      "execution_count": null,
      "outputs": [
        {
          "output_type": "stream",
          "name": "stdout",
          "text": [
            "Requirement already satisfied: pandas in /usr/local/lib/python3.7/dist-packages (1.3.5)\n",
            "Requirement already satisfied: pytz>=2017.3 in /usr/local/lib/python3.7/dist-packages (from pandas) (2018.9)\n",
            "Requirement already satisfied: python-dateutil>=2.7.3 in /usr/local/lib/python3.7/dist-packages (from pandas) (2.8.2)\n",
            "Requirement already satisfied: numpy>=1.17.3 in /usr/local/lib/python3.7/dist-packages (from pandas) (1.21.5)\n",
            "Requirement already satisfied: six>=1.5 in /usr/local/lib/python3.7/dist-packages (from python-dateutil>=2.7.3->pandas) (1.15.0)\n",
            "Requirement already satisfied: openpyxl in /usr/local/lib/python3.7/dist-packages (3.0.9)\n",
            "Requirement already satisfied: et-xmlfile in /usr/local/lib/python3.7/dist-packages (from openpyxl) (1.1.0)\n",
            "Requirement already satisfied: networkx in /usr/local/lib/python3.7/dist-packages (2.6.3)\n",
            "Requirement already satisfied: node2vec in /usr/local/lib/python3.7/dist-packages (0.4.3)\n",
            "Requirement already satisfied: gensim in /usr/local/lib/python3.7/dist-packages (from node2vec) (3.6.0)\n",
            "Requirement already satisfied: joblib>=0.13.2 in /usr/local/lib/python3.7/dist-packages (from node2vec) (1.1.0)\n",
            "Requirement already satisfied: networkx in /usr/local/lib/python3.7/dist-packages (from node2vec) (2.6.3)\n",
            "Requirement already satisfied: tqdm in /usr/local/lib/python3.7/dist-packages (from node2vec) (4.62.3)\n",
            "Requirement already satisfied: numpy in /usr/local/lib/python3.7/dist-packages (from node2vec) (1.21.5)\n",
            "Requirement already satisfied: smart-open>=1.2.1 in /usr/local/lib/python3.7/dist-packages (from gensim->node2vec) (5.2.1)\n",
            "Requirement already satisfied: scipy>=0.18.1 in /usr/local/lib/python3.7/dist-packages (from gensim->node2vec) (1.4.1)\n",
            "Requirement already satisfied: six>=1.5.0 in /usr/local/lib/python3.7/dist-packages (from gensim->node2vec) (1.15.0)\n",
            "Requirement already satisfied: numpy in /usr/local/lib/python3.7/dist-packages (1.21.5)\n",
            "Requirement already satisfied: stellargraph in /usr/local/lib/python3.7/dist-packages (1.2.1)\n",
            "Requirement already satisfied: numpy>=1.14 in /usr/local/lib/python3.7/dist-packages (from stellargraph) (1.21.5)\n",
            "Requirement already satisfied: scipy>=1.1.0 in /usr/local/lib/python3.7/dist-packages (from stellargraph) (1.4.1)\n",
            "Requirement already satisfied: gensim>=3.4.0 in /usr/local/lib/python3.7/dist-packages (from stellargraph) (3.6.0)\n",
            "Requirement already satisfied: pandas>=0.24 in /usr/local/lib/python3.7/dist-packages (from stellargraph) (1.3.5)\n",
            "Requirement already satisfied: networkx>=2.2 in /usr/local/lib/python3.7/dist-packages (from stellargraph) (2.6.3)\n",
            "Requirement already satisfied: scikit-learn>=0.20 in /usr/local/lib/python3.7/dist-packages (from stellargraph) (1.0.2)\n",
            "Requirement already satisfied: matplotlib>=2.2 in /usr/local/lib/python3.7/dist-packages (from stellargraph) (3.2.2)\n",
            "Requirement already satisfied: tensorflow>=2.1.0 in /usr/local/lib/python3.7/dist-packages (from stellargraph) (2.8.0)\n",
            "Requirement already satisfied: smart-open>=1.2.1 in /usr/local/lib/python3.7/dist-packages (from gensim>=3.4.0->stellargraph) (5.2.1)\n",
            "Requirement already satisfied: six>=1.5.0 in /usr/local/lib/python3.7/dist-packages (from gensim>=3.4.0->stellargraph) (1.15.0)\n",
            "Requirement already satisfied: cycler>=0.10 in /usr/local/lib/python3.7/dist-packages (from matplotlib>=2.2->stellargraph) (0.11.0)\n",
            "Requirement already satisfied: python-dateutil>=2.1 in /usr/local/lib/python3.7/dist-packages (from matplotlib>=2.2->stellargraph) (2.8.2)\n",
            "Requirement already satisfied: kiwisolver>=1.0.1 in /usr/local/lib/python3.7/dist-packages (from matplotlib>=2.2->stellargraph) (1.3.2)\n",
            "Requirement already satisfied: pyparsing!=2.0.4,!=2.1.2,!=2.1.6,>=2.0.1 in /usr/local/lib/python3.7/dist-packages (from matplotlib>=2.2->stellargraph) (3.0.7)\n",
            "Requirement already satisfied: pytz>=2017.3 in /usr/local/lib/python3.7/dist-packages (from pandas>=0.24->stellargraph) (2018.9)\n",
            "Requirement already satisfied: joblib>=0.11 in /usr/local/lib/python3.7/dist-packages (from scikit-learn>=0.20->stellargraph) (1.1.0)\n",
            "Requirement already satisfied: threadpoolctl>=2.0.0 in /usr/local/lib/python3.7/dist-packages (from scikit-learn>=0.20->stellargraph) (3.1.0)\n",
            "Requirement already satisfied: astunparse>=1.6.0 in /usr/local/lib/python3.7/dist-packages (from tensorflow>=2.1.0->stellargraph) (1.6.3)\n",
            "Requirement already satisfied: google-pasta>=0.1.1 in /usr/local/lib/python3.7/dist-packages (from tensorflow>=2.1.0->stellargraph) (0.2.0)\n",
            "Requirement already satisfied: tensorboard<2.9,>=2.8 in /usr/local/lib/python3.7/dist-packages (from tensorflow>=2.1.0->stellargraph) (2.8.0)\n",
            "Requirement already satisfied: grpcio<2.0,>=1.24.3 in /usr/local/lib/python3.7/dist-packages (from tensorflow>=2.1.0->stellargraph) (1.43.0)\n",
            "Requirement already satisfied: libclang>=9.0.1 in /usr/local/lib/python3.7/dist-packages (from tensorflow>=2.1.0->stellargraph) (13.0.0)\n",
            "Requirement already satisfied: gast>=0.2.1 in /usr/local/lib/python3.7/dist-packages (from tensorflow>=2.1.0->stellargraph) (0.5.3)\n",
            "Requirement already satisfied: tf-estimator-nightly==2.8.0.dev2021122109 in /usr/local/lib/python3.7/dist-packages (from tensorflow>=2.1.0->stellargraph) (2.8.0.dev2021122109)\n",
            "Requirement already satisfied: wrapt>=1.11.0 in /usr/local/lib/python3.7/dist-packages (from tensorflow>=2.1.0->stellargraph) (1.13.3)\n",
            "Requirement already satisfied: typing-extensions>=3.6.6 in /usr/local/lib/python3.7/dist-packages (from tensorflow>=2.1.0->stellargraph) (3.10.0.2)\n",
            "Requirement already satisfied: termcolor>=1.1.0 in /usr/local/lib/python3.7/dist-packages (from tensorflow>=2.1.0->stellargraph) (1.1.0)\n",
            "Requirement already satisfied: absl-py>=0.4.0 in /usr/local/lib/python3.7/dist-packages (from tensorflow>=2.1.0->stellargraph) (1.0.0)\n",
            "Requirement already satisfied: keras<2.9,>=2.8.0rc0 in /usr/local/lib/python3.7/dist-packages (from tensorflow>=2.1.0->stellargraph) (2.8.0)\n",
            "Requirement already satisfied: tensorflow-io-gcs-filesystem>=0.23.1 in /usr/local/lib/python3.7/dist-packages (from tensorflow>=2.1.0->stellargraph) (0.24.0)\n",
            "Requirement already satisfied: opt-einsum>=2.3.2 in /usr/local/lib/python3.7/dist-packages (from tensorflow>=2.1.0->stellargraph) (3.3.0)\n",
            "Requirement already satisfied: setuptools in /usr/local/lib/python3.7/dist-packages (from tensorflow>=2.1.0->stellargraph) (57.4.0)\n",
            "Requirement already satisfied: protobuf>=3.9.2 in /usr/local/lib/python3.7/dist-packages (from tensorflow>=2.1.0->stellargraph) (3.17.3)\n",
            "Requirement already satisfied: h5py>=2.9.0 in /usr/local/lib/python3.7/dist-packages (from tensorflow>=2.1.0->stellargraph) (3.1.0)\n",
            "Requirement already satisfied: flatbuffers>=1.12 in /usr/local/lib/python3.7/dist-packages (from tensorflow>=2.1.0->stellargraph) (2.0)\n",
            "Requirement already satisfied: keras-preprocessing>=1.1.1 in /usr/local/lib/python3.7/dist-packages (from tensorflow>=2.1.0->stellargraph) (1.1.2)\n",
            "Requirement already satisfied: wheel<1.0,>=0.23.0 in /usr/local/lib/python3.7/dist-packages (from astunparse>=1.6.0->tensorflow>=2.1.0->stellargraph) (0.37.1)\n",
            "Requirement already satisfied: cached-property in /usr/local/lib/python3.7/dist-packages (from h5py>=2.9.0->tensorflow>=2.1.0->stellargraph) (1.5.2)\n",
            "Requirement already satisfied: requests<3,>=2.21.0 in /usr/local/lib/python3.7/dist-packages (from tensorboard<2.9,>=2.8->tensorflow>=2.1.0->stellargraph) (2.23.0)\n",
            "Requirement already satisfied: werkzeug>=0.11.15 in /usr/local/lib/python3.7/dist-packages (from tensorboard<2.9,>=2.8->tensorflow>=2.1.0->stellargraph) (1.0.1)\n",
            "Requirement already satisfied: google-auth<3,>=1.6.3 in /usr/local/lib/python3.7/dist-packages (from tensorboard<2.9,>=2.8->tensorflow>=2.1.0->stellargraph) (1.35.0)\n",
            "Requirement already satisfied: tensorboard-plugin-wit>=1.6.0 in /usr/local/lib/python3.7/dist-packages (from tensorboard<2.9,>=2.8->tensorflow>=2.1.0->stellargraph) (1.8.1)\n",
            "Requirement already satisfied: tensorboard-data-server<0.7.0,>=0.6.0 in /usr/local/lib/python3.7/dist-packages (from tensorboard<2.9,>=2.8->tensorflow>=2.1.0->stellargraph) (0.6.1)\n",
            "Requirement already satisfied: google-auth-oauthlib<0.5,>=0.4.1 in /usr/local/lib/python3.7/dist-packages (from tensorboard<2.9,>=2.8->tensorflow>=2.1.0->stellargraph) (0.4.6)\n",
            "Requirement already satisfied: markdown>=2.6.8 in /usr/local/lib/python3.7/dist-packages (from tensorboard<2.9,>=2.8->tensorflow>=2.1.0->stellargraph) (3.3.6)\n",
            "Requirement already satisfied: pyasn1-modules>=0.2.1 in /usr/local/lib/python3.7/dist-packages (from google-auth<3,>=1.6.3->tensorboard<2.9,>=2.8->tensorflow>=2.1.0->stellargraph) (0.2.8)\n",
            "Requirement already satisfied: cachetools<5.0,>=2.0.0 in /usr/local/lib/python3.7/dist-packages (from google-auth<3,>=1.6.3->tensorboard<2.9,>=2.8->tensorflow>=2.1.0->stellargraph) (4.2.4)\n",
            "Requirement already satisfied: rsa<5,>=3.1.4 in /usr/local/lib/python3.7/dist-packages (from google-auth<3,>=1.6.3->tensorboard<2.9,>=2.8->tensorflow>=2.1.0->stellargraph) (4.8)\n",
            "Requirement already satisfied: requests-oauthlib>=0.7.0 in /usr/local/lib/python3.7/dist-packages (from google-auth-oauthlib<0.5,>=0.4.1->tensorboard<2.9,>=2.8->tensorflow>=2.1.0->stellargraph) (1.3.1)\n",
            "Requirement already satisfied: importlib-metadata>=4.4 in /usr/local/lib/python3.7/dist-packages (from markdown>=2.6.8->tensorboard<2.9,>=2.8->tensorflow>=2.1.0->stellargraph) (4.11.0)\n",
            "Requirement already satisfied: zipp>=0.5 in /usr/local/lib/python3.7/dist-packages (from importlib-metadata>=4.4->markdown>=2.6.8->tensorboard<2.9,>=2.8->tensorflow>=2.1.0->stellargraph) (3.7.0)\n",
            "Requirement already satisfied: pyasn1<0.5.0,>=0.4.6 in /usr/local/lib/python3.7/dist-packages (from pyasn1-modules>=0.2.1->google-auth<3,>=1.6.3->tensorboard<2.9,>=2.8->tensorflow>=2.1.0->stellargraph) (0.4.8)\n",
            "Requirement already satisfied: chardet<4,>=3.0.2 in /usr/local/lib/python3.7/dist-packages (from requests<3,>=2.21.0->tensorboard<2.9,>=2.8->tensorflow>=2.1.0->stellargraph) (3.0.4)\n",
            "Requirement already satisfied: urllib3!=1.25.0,!=1.25.1,<1.26,>=1.21.1 in /usr/local/lib/python3.7/dist-packages (from requests<3,>=2.21.0->tensorboard<2.9,>=2.8->tensorflow>=2.1.0->stellargraph) (1.24.3)\n",
            "Requirement already satisfied: certifi>=2017.4.17 in /usr/local/lib/python3.7/dist-packages (from requests<3,>=2.21.0->tensorboard<2.9,>=2.8->tensorflow>=2.1.0->stellargraph) (2021.10.8)\n",
            "Requirement already satisfied: idna<3,>=2.5 in /usr/local/lib/python3.7/dist-packages (from requests<3,>=2.21.0->tensorboard<2.9,>=2.8->tensorflow>=2.1.0->stellargraph) (2.10)\n",
            "Requirement already satisfied: oauthlib>=3.0.0 in /usr/local/lib/python3.7/dist-packages (from requests-oauthlib>=0.7.0->google-auth-oauthlib<0.5,>=0.4.1->tensorboard<2.9,>=2.8->tensorflow>=2.1.0->stellargraph) (3.2.0)\n"
          ]
        }
      ]
    },
    {
      "cell_type": "code",
      "metadata": {
        "colab": {
          "base_uri": "https://localhost:8080/"
        },
        "id": "Ba51AzoG8rdD",
        "outputId": "54fd890b-abb3-4f12-e5d8-dbb8e3a1896a"
      },
      "source": [
        "from google.colab import drive\n",
        "drive.mount('/content/drive')"
      ],
      "execution_count": null,
      "outputs": [
        {
          "output_type": "stream",
          "name": "stdout",
          "text": [
            "Drive already mounted at /content/drive; to attempt to forcibly remount, call drive.mount(\"/content/drive\", force_remount=True).\n"
          ]
        }
      ]
    },
    {
      "cell_type": "code",
      "metadata": {
        "colab": {
          "base_uri": "https://localhost:8080/"
        },
        "id": "ShqCc9eY7kJf",
        "outputId": "c327f2b6-7cdb-4ce3-acf1-0c399ea1a328"
      },
      "source": [
        "import pandas as pd\n",
        "import numpy as np\n",
        "from pandas import ExcelWriter\n",
        "from pandas import ExcelFile\n",
        "\n",
        "df = pd.read_excel(\"/content/drive/MyDrive/Datasets/Corporation_network.xlsx\",\"Sheet1\")\n",
        "print(df)"
      ],
      "execution_count": null,
      "outputs": [
        {
          "output_type": "stream",
          "name": "stdout",
          "text": [
            "    Unnamed: 0         A       AAL  ...      ZBRA      ZION       ZTS\n",
            "0            A  0.000000  0.213315  ...  0.230499  0.292645  0.277432\n",
            "1          AAL  0.213315  0.000000  ...  0.205259  0.211573  0.194883\n",
            "2          AAP  0.209926  0.202833  ...  0.219511  0.225825  0.209135\n",
            "3         AAPL  0.249060  0.208419  ...  0.220815  0.204694  0.227457\n",
            "4         ABBV  0.262888  0.219896  ...  0.252338  0.235036  0.241104\n",
            "..         ...       ...       ...  ...       ...       ...       ...\n",
            "498        YUM  0.302889  0.200898  ...  0.227980  0.233156  0.278413\n",
            "499        ZBH  0.260228  0.216775  ...  0.252245  0.278336  0.231823\n",
            "500       ZBRA  0.230499  0.205259  ...  0.000000  0.250024  0.236171\n",
            "501       ZION  0.292645  0.211573  ...  0.250024  0.000000  0.217875\n",
            "502        ZTS  0.277432  0.194883  ...  0.236171  0.217875  0.000000\n",
            "\n",
            "[503 rows x 504 columns]\n"
          ]
        }
      ]
    },
    {
      "cell_type": "markdown",
      "metadata": {
        "id": "RY39uNfsvnk0"
      },
      "source": [
        "#Creating a networkx graph and then using the graph to create node embeddings, and using these embeddings to find nearest neighbors or most similar companies for a stock\n"
      ]
    },
    {
      "cell_type": "code",
      "metadata": {
        "colab": {
          "base_uri": "https://localhost:8080/"
        },
        "id": "aCeUh_u49Xnp",
        "outputId": "3a34a130-179e-4b42-d331-dafc3404d630"
      },
      "source": [
        "import networkx as nx\n",
        "from node2vec import Node2Vec\n",
        "\n",
        "# Numpy array from dataframe\n",
        "np_arr = df.to_numpy()\n",
        "final_np = np.empty([503,503])\n",
        "ordered_companies = []\n",
        "\n",
        "ind = 0\n",
        "for arr in np_arr:\n",
        "    final_np[ind] = arr[1:]\n",
        "    ordered_companies.append(arr[0])\n",
        "    ind += 1\n",
        "print(ordered_companies)\n",
        "print(final_np)\n",
        "\n",
        "# Numpy array(after removing company names) is fed into function to create networkx graph\n",
        "graph = nx.from_numpy_matrix(final_np)\n",
        "print(graph)"
      ],
      "execution_count": null,
      "outputs": [
        {
          "output_type": "stream",
          "name": "stdout",
          "text": [
            "['A', 'AAL', 'AAP', 'AAPL', 'ABBV', 'ABC', 'ABMD', 'ABT', 'ACN', 'ADBE', 'ADI', 'ADM', 'ADP', 'ADSK', 'AEE', 'AEP', 'AES', 'AFL', 'AIG', 'AIZ', 'AJG', 'AKAM', 'ALB', 'ALGN', 'ALK', 'ALL', 'ALLE', 'AMAT', 'AMCR', 'AMD', 'AME', 'AMGN', 'AMP', 'AMT', 'AMZN', 'ANET', 'ANSS', 'ANTM', 'AON', 'AOS', 'APA', 'APD', 'APH', 'APTV', 'ARE', 'ATO', 'ATVI', 'AVB', 'AVGO', 'AVY', 'AWK', 'AXP', 'AZO', 'BA', 'BAC', 'BAX', 'BBWI', 'BBY', 'BDX', 'BEN', 'BIIB', 'BIO', 'BK', 'BKNG', 'BKR', 'BLK', 'BLL', 'BMY', 'BR', 'BSX', 'BWA', 'BXP', 'C', 'CAG', 'CAH', 'CARR', 'CAT', 'CB', 'CBOE', 'CBRE', 'CCI', 'CCL', 'CDNS', 'CDW', 'CE', 'CERN', 'CF', 'CFG', 'CHD', 'CHRW', 'CHTR', 'CI', 'CINF', 'CL', 'CLX', 'CMA', 'CMCSA', 'CME', 'CMG', 'CMI', 'CMS', 'CNC', 'CNP', 'COF', 'COG', 'COO', 'COP', 'COST', 'CPB', 'CPRT', 'CRL', 'CRM', 'CSCO', 'CSX', 'CTAS', 'CTLT', 'CTSH', 'CTVA', 'CTXS', 'CVS', 'CVX', 'CZR', 'D', 'DAL', 'DD', 'DE', 'DFS', 'DG', 'DGX', 'DHI', 'DHR', 'DIS', 'DISCA', 'DISCK', 'DISH', 'DLR', 'DLTR', 'DOV', 'DOW', 'DPZ', 'DRE', 'DRI', 'DTE', 'DUK', 'DVA', 'DVN', 'DXC', 'DXCM', 'EA', 'EBAY', 'ECL', 'ED', 'EFX', 'EIX', 'EL', 'EMN', 'EMR', 'ENPH', 'EOG', 'EQIX', 'EQR', 'ES', 'ESS', 'ETN', 'ETR', 'ETSY', 'EVRG', 'EW', 'EXC', 'EXPD', 'EXPE', 'EXR', 'F', 'FANG', 'FAST', 'FB', 'FBHS', 'FCX', 'FDX', 'FE', 'FFIV', 'FIS', 'FISV', 'FITB', 'FLT', 'FMC', 'FOX', 'FOXA', 'FRC', 'FRT', 'FTNT', 'FTV', 'GD', 'GE', 'GILD', 'GIS', 'GL', 'GLW', 'GM', 'GNRC', 'GOOG', 'GOOGL', 'GPC', 'GPN', 'GPS', 'GRMN', 'GS', 'GWW', 'HAL', 'HAS', 'HBAN', 'HBI', 'HCA', 'HD', 'HES', 'HIG', 'HII', 'HLT', 'HOLX', 'HON', 'HPE', 'HPQ', 'HRL', 'HSIC', 'HST', 'HSY', 'HUM', 'HWM', 'IBM', 'ICE', 'IDXX', 'IEX', 'IFF', 'ILMN', 'INCY', 'INFO', 'INTC', 'INTU', 'IP', 'IPG', 'IPGP', 'IQV', 'IR', 'IRM', 'ISRG', 'IT', 'ITW', 'IVZ', 'J', 'JBHT', 'JCI', 'JKHY', 'JNJ', 'JNPR', 'JPM', 'K', 'KEY', 'KEYS', 'KHC', 'KIM', 'KLAC', 'KMB', 'KMI', 'KMX', 'KO', 'KR', 'KSU', 'L', 'LDOS', 'LEG', 'LEN', 'LH', 'LHX', 'LIN', 'LKQ', 'LLY', 'LMT', 'LNC', 'LNT', 'LOW', 'LRCX', 'LUMN', 'LUV', 'LVS', 'LW', 'LYB', 'LYV', 'MA', 'MAA', 'MAR', 'MAS', 'MCD', 'MCHP', 'MCK', 'MCO', 'MDLZ', 'MDT', 'MET', 'MGM', 'MHK', 'MKC', 'MKTX', 'MLM', 'MMC', 'MMM', 'MNST', 'MO', 'MOS', 'MPC', 'MPWR', 'MRK', 'MRNA', 'MRO', 'MS', 'MSCI', 'MSFT', 'MSI', 'MTB', 'MTD', 'MU', 'MXIM', 'NCLH', 'NDAQ', 'NEE', 'NEM', 'NFLX', 'NI', 'NKE', 'NLOK', 'NLSN', 'NOC', 'NOV', 'NOW', 'NRG', 'NSC', 'NTAP', 'NTRS', 'NUE', 'NVDA', 'NVR', 'NWL', 'NWS', 'NWSA', 'NXPI', 'O', 'ODFL', 'OGN', 'OKE', 'OMC', 'ORCL', 'ORLY', 'OTIS', 'OXY', 'PAYC', 'PAYX', 'PBCT', 'PCAR', 'PEAK', 'PEG', 'PENN', 'PEP', 'PFE', 'PFG', 'PG', 'PGR', 'PH', 'PHM', 'PKG', 'PKI', 'PLD', 'PM', 'PNC', 'PNR', 'PNW', 'POOL', 'PPG', 'PPL', 'PRGO', 'PRU', 'PSA', 'PSX', 'PTC', 'PVH', 'PWR', 'PXD', 'PYPL', 'QCOM', 'QRVO', 'RCL', 'RE', 'REG', 'REGN', 'RF', 'RHI', 'RJF', 'RL', 'RMD', 'ROK', 'ROL', 'ROP', 'ROST', 'RSG', 'RTX', 'SBAC', 'SBUX', 'SCHW', 'SEE', 'SHW', 'SIVB', 'SJM', 'SLB', 'SNA', 'SNPS', 'SO', 'SPG', 'SPGI', 'SRE', 'STE', 'STT', 'STX', 'STZ', 'SWK', 'SWKS', 'SYF', 'SYK', 'SYY', 'T', 'TAP', 'TDG', 'TDY', 'TEL', 'TER', 'TFC', 'TFX', 'TGT', 'TJX', 'TMO', 'TMUS', 'TPR', 'TRMB', 'TROW', 'TRV', 'TSCO', 'TSLA', 'TSN', 'TT', 'TTWO', 'TWTR', 'TXN', 'TXT', 'TYL', 'UA', 'UAA', 'UAL', 'UDR', 'UHS', 'ULTA', 'UNH', 'UNM', 'UNP', 'UPS', 'URI', 'USB', 'V', 'VFC', 'VIAC', 'VLO', 'VMC', 'VNO', 'VRSK', 'VRSN', 'VRTX', 'VTR', 'VTRS', 'VZ', 'WAB', 'WAT', 'WBA', 'WDC', 'WEC', 'WELL', 'WFC', 'WHR', 'WLTW', 'WM', 'WMB', 'WMT', 'WRB', 'WRK', 'WST', 'WU', 'WY', 'WYNN', 'XEL', 'XLNX', 'XOM', 'XRAY', 'XYL', 'YUM', 'ZBH', 'ZBRA', 'ZION', 'ZTS']\n",
            "[[0.         0.21331462 0.20992563 ... 0.23049939 0.29264474 0.27743244]\n",
            " [0.21331462 0.         0.20283277 ... 0.20525909 0.21157317 0.19488264]\n",
            " [0.20992563 0.20283277 0.         ... 0.21951105 0.22582512 0.2091346 ]\n",
            " ...\n",
            " [0.23049939 0.20525909 0.21951105 ... 0.         0.25002394 0.23617117]\n",
            " [0.29264474 0.21157317 0.22582512 ... 0.25002394 0.         0.217875  ]\n",
            " [0.27743244 0.19488264 0.2091346  ... 0.23617117 0.217875   0.        ]]\n",
            "Graph with 503 nodes and 126253 edges\n"
          ]
        }
      ]
    },
    {
      "cell_type": "code",
      "metadata": {
        "id": "Prp4zazOPRLW"
      },
      "source": [
        "from stellargraph import StellarGraph\n",
        "G = StellarGraph.from_networkx(graph)"
      ],
      "execution_count": null,
      "outputs": []
    },
    {
      "cell_type": "code",
      "metadata": {
        "colab": {
          "base_uri": "https://localhost:8080/"
        },
        "id": "FCtd7CpQQmT0",
        "outputId": "624b534a-352f-43cc-93a9-7162707c8dc6"
      },
      "source": [
        "print(G.info())"
      ],
      "execution_count": null,
      "outputs": [
        {
          "output_type": "stream",
          "name": "stdout",
          "text": [
            "StellarGraph: Undirected multigraph\n",
            " Nodes: 503, Edges: 126253\n",
            "\n",
            " Node types:\n",
            "  default: [503]\n",
            "    Features: none\n",
            "    Edge types: default-default->default\n",
            "\n",
            " Edge types:\n",
            "    default-default->default: [126253]\n",
            "        Weights: range=[0.0775062, 0.591484], mean=0.261796, std=0.0459041\n",
            "        Features: none\n"
          ]
        }
      ]
    },
    {
      "cell_type": "code",
      "metadata": {
        "colab": {
          "base_uri": "https://localhost:8080/"
        },
        "id": "8MYHeUlxQ1Md",
        "outputId": "19e5d483-7683-4d6b-dc85-f80ceb841637"
      },
      "source": [
        "from stellargraph.data import BiasedRandomWalk\n",
        "\n",
        "rw = BiasedRandomWalk(G)\n",
        "\n",
        "walks = rw.run(\n",
        "    nodes=list(G.nodes()),  # root nodes\n",
        "    length=100,  # maximum length of a random walk\n",
        "    # Vary the n value as follows :- 10,20,30,40,50\n",
        "    n=30,  # number of random walks per root node\n",
        "    p=0.5,  # Defines (unormalised) probability, 1/p, of returning to source node\n",
        "    q=2.0,  # Defines (unormalised) probability, 1/q, for moving away from source node\n",
        ")\n",
        "print(\"Number of random walks: {}\".format(len(walks)))"
      ],
      "execution_count": null,
      "outputs": [
        {
          "output_type": "stream",
          "name": "stdout",
          "text": [
            "Number of random walks: 15090\n"
          ]
        }
      ]
    },
    {
      "cell_type": "code",
      "metadata": {
        "id": "MPDWIOrGReN4"
      },
      "source": [
        "from gensim.models import Word2Vec\n",
        "\n",
        "str_walks = [[str(n) for n in walk] for walk in walks]\n",
        "embed_model = Word2Vec(str_walks, size=128, window=5, min_count=0, sg=1, workers=1, iter=10)"
      ],
      "execution_count": null,
      "outputs": []
    },
    {
      "cell_type": "code",
      "metadata": {
        "id": "Z3aGZ7DI9j4u"
      },
      "source": [
        "# Networkx graph is embedded using node2vec\n",
        "# node2vec = Node2Vec(graph, dimensions=64, walk_length=30, num_walks=200, workers=1)\n",
        "# print(node2vec)"
      ],
      "execution_count": null,
      "outputs": []
    },
    {
      "cell_type": "code",
      "metadata": {
        "id": "amRMQBjo9cOf"
      },
      "source": [
        "# Embed nodes\n",
        "# embed_model = node2vec.fit(window=10, min_count=1, batch_words=4)\n",
        "# print(\"Node embedding model ready\")"
      ],
      "execution_count": null,
      "outputs": []
    },
    {
      "cell_type": "code",
      "metadata": {
        "colab": {
          "base_uri": "https://localhost:8080/"
        },
        "id": "Gj_CezRpBxri",
        "outputId": "3cfa8d78-76e7-423a-e326-acc75a6c9dbb"
      },
      "source": [
        "# Getting Similar Companies\n",
        "#company=input(\"Enter stock name: \")\n",
        "company=\"GOOG\"\n",
        "if company in ordered_companies:\n",
        "  index=str(ordered_companies.index(company))\n",
        "  similar_companies=embed_model.wv.most_similar(index)\n",
        "  print(\"Related companies are-\")\n",
        "  for comp in similar_companies:\n",
        "    stock=ordered_companies[int(comp[0])]\n",
        "    similarity=comp[1]\n",
        "    print(stock,similarity)\n",
        "else:\n",
        "  print(\"Company not valid option, pls select from these: \", ordered_companies)"
      ],
      "execution_count": null,
      "outputs": [
        {
          "output_type": "stream",
          "name": "stdout",
          "text": [
            "Related companies are-\n",
            "LLY 0.3899253010749817\n",
            "ALB 0.38187676668167114\n",
            "TAP 0.3784782290458679\n",
            "ES 0.3714468479156494\n",
            "CNP 0.36066192388534546\n",
            "MCO 0.3353883922100067\n",
            "ROL 0.3322245180606842\n",
            "CRM 0.32966965436935425\n",
            "KR 0.3246668875217438\n",
            "PYPL 0.31469690799713135\n"
          ]
        }
      ]
    },
    {
      "cell_type": "markdown",
      "metadata": {
        "id": "1IhYvifgb68B"
      },
      "source": [
        "# Stock Price Prediction using LSTM\n",
        "\n",
        "Here we create a model which predicts stock prices for a target company "
      ]
    },
    {
      "cell_type": "code",
      "metadata": {
        "colab": {
          "base_uri": "https://localhost:8080/"
        },
        "id": "didZq5cKEczE",
        "outputId": "8d03cf28-6186-476b-eb97-a0876d7ee633"
      },
      "source": [
        "from google.colab import drive\n",
        "drive.mount('/content/drive')"
      ],
      "execution_count": null,
      "outputs": [
        {
          "output_type": "stream",
          "name": "stdout",
          "text": [
            "Drive already mounted at /content/drive; to attempt to forcibly remount, call drive.mount(\"/content/drive\", force_remount=True).\n"
          ]
        }
      ]
    },
    {
      "cell_type": "code",
      "metadata": {
        "colab": {
          "base_uri": "https://localhost:8080/"
        },
        "id": "H9cUO995eSO3",
        "outputId": "fcaa8dda-7992-4524-8536-c3294d03f07a"
      },
      "source": [
        "import numpy as np\n",
        "import matplotlib.pyplot as plt\n",
        "import pandas as pd\n",
        "from sklearn.model_selection import train_test_split\n",
        "from sklearn.preprocessing import MinMaxScaler\n",
        "\n",
        "#company=input(\"Enter company name: \")\n",
        "company=\"GOOG\"\n",
        "df = pd.read_excel('/content/drive/MyDrive/Major_Project/Trade_data.xls',sheet_name=company)\n",
        "print(df)"
      ],
      "execution_count": null,
      "outputs": [
        {
          "output_type": "stream",
          "name": "stdout",
          "text": [
            "                     Date         Open  ...    Adj Close   Volume\n",
            "0     2017-01-03 00:00:00   778.809998  ...   786.140015  1657300\n",
            "1     2017-01-04 00:00:00   788.359985  ...   786.900024  1073000\n",
            "2     2017-01-05 00:00:00   786.080017  ...   794.020020  1335200\n",
            "3     2017-01-06 00:00:00   795.260010  ...   806.150024  1640200\n",
            "4     2017-01-09 00:00:00   806.400024  ...   806.650024  1274600\n",
            "...                   ...          ...  ...          ...      ...\n",
            "1157  2021-08-09 00:00:00  2738.979980  ...  2760.040039   618700\n",
            "1158  2021-08-10 00:00:00  2761.590088  ...  2761.929932   801700\n",
            "1159  2021-08-11 00:00:00  2765.659912  ...  2753.790039   760200\n",
            "1160  2021-08-12 00:00:00  2754.260010  ...  2767.790039   732300\n",
            "1161  2021-08-13 00:00:00  2767.149902  ...  2768.120117   628600\n",
            "\n",
            "[1162 rows x 7 columns]\n"
          ]
        }
      ]
    },
    {
      "cell_type": "code",
      "metadata": {
        "colab": {
          "base_uri": "https://localhost:8080/"
        },
        "id": "F2O06qykCe3U",
        "outputId": "f4f7d600-730a-40b8-c8a3-5c22e6f744f2"
      },
      "source": [
        "df = df.sort_values('Date')\n",
        "\n",
        "plt.figure(figsize = (18,9))\n",
        "plt.plot(range(df.shape[0]),(df['Low']+df['High'])/2.0)\n",
        "plt.xticks(range(0,df.shape[0],50),df['Date'].loc[::50],rotation=45)\n",
        "plt.xlabel('Date',fontsize=8)\n",
        "plt.ylabel('Mid Price',fontsize=18)\n",
        "plt.show()"
      ],
      "execution_count": null,
      "outputs": [
        {
          "output_type": "display_data",
          "data": {
            "image/png": "[encoded data removed]",
            "text/plain": [
              "<Figure size 1296x648 with 1 Axes>"
            ]
          },
          "metadata": {
            "needs_background": "light"
          }
        }
      ]
    },
    {
      "cell_type": "code",
      "metadata": {
        "colab": {
          "base_uri": "https://localhost:8080/"
        },
        "id": "yp1jHa7qCv0h",
        "outputId": "2d7d73ca-824e-4a68-db19-cf9eeb341442"
      },
      "source": [
        "# Splitting data into test and train\n",
        "index=int(0.8*len(df['Date'].loc[:]))\n",
        "\n",
        "train_data = df.iloc[:index, 1:2].values\n",
        "test_data = df.iloc[index:, 1:2].values\n",
        "\n",
        "total_data = df.iloc[:,1:2].values\n",
        "\n",
        "print(\"Train data: \",len(train_data))\n",
        "print(\"Test data: \",len(test_data))\n",
        "print(\"Total data: \",len(total_data))"
      ],
      "execution_count": null,
      "outputs": [
        {
          "output_type": "stream",
          "name": "stdout",
          "text": [
            "Train data:  929\n",
            "Test data:  233\n",
            "Total data:  1162\n"
          ]
        }
      ]
    },
    {
      "cell_type": "code",
      "metadata": {
        "colab": {
          "base_uri": "https://localhost:8080/"
        },
        "id": "cq71OPoPD5R7",
        "outputId": "d27355ba-fe1b-44e0-93f2-ece58d1c03ff"
      },
      "source": [
        "# Feature Scaling\n",
        "sc = MinMaxScaler(feature_range = (0, 1))\n",
        "training_set_scaled = sc.fit_transform(train_data)\n",
        "# Creating a data structure with 60 time-steps and 1 output\n",
        "X_train = []\n",
        "y_train = []\n",
        "for i in range(60, len(train_data)):\n",
        "    X_train.append(training_set_scaled[i-50:i, 0])\n",
        "    y_train.append(training_set_scaled[i, 0])\n",
        "X_train, y_train = np.array(X_train), np.array(y_train)\n",
        "X_train = np.reshape(X_train, (X_train.shape[0], X_train.shape[1], 1))\n",
        "print(X_train.shape)"
      ],
      "execution_count": null,
      "outputs": [
        {
          "output_type": "stream",
          "name": "stdout",
          "text": [
            "(869, 50, 1)\n"
          ]
        }
      ]
    },
    {
      "cell_type": "code",
      "metadata": {
        "colab": {
          "base_uri": "https://localhost:8080/"
        },
        "id": "GYn874MWUaf0",
        "outputId": "d840c28a-7437-4118-e179-9553a19783da"
      },
      "source": [
        "dataset_train = df.iloc[:index, 1:2]\n",
        "dataset_test = df.iloc[index:, 1:2]\n",
        "dataset_total = pd.concat((dataset_train, dataset_test), axis = 0)\n",
        "inputs = dataset_total[len(dataset_total) - len(dataset_test) - 60:].values\n",
        "inputs = inputs.reshape(-1,1)\n",
        "inputs = sc.transform(inputs)\n",
        "X_test = []\n",
        "Y_test = []\n",
        "for i in range(60, len(dataset_test)+60):\n",
        "    X_test.append(inputs[i-50:i, 0])\n",
        "    Y_test.append(inputs[i,0])\n",
        "X_test,Y_test = np.array(X_test), np.array(Y_test)\n",
        "X_test = np.reshape(X_test, (X_test.shape[0], X_test.shape[1], 1))\n",
        "print(X_test.shape)"
      ],
      "execution_count": null,
      "outputs": [
        {
          "output_type": "stream",
          "name": "stdout",
          "text": [
            "(233, 50, 1)\n"
          ]
        }
      ]
    },
    {
      "cell_type": "code",
      "metadata": {
        "colab": {
          "base_uri": "https://localhost:8080/"
        },
        "id": "ec86PD5vmQ4G",
        "outputId": "952ba163-e27b-4594-f9a0-ff4979647566"
      },
      "source": [
        "from keras.models import Sequential\n",
        "from keras.layers import Dense\n",
        "from keras.layers import LSTM\n",
        "from keras.layers import Dropout\n",
        "\n",
        "\n",
        "model = Sequential()\n",
        "#Adding the first LSTM layer and some Dropout regularisation\n",
        "model.add(LSTM(units = 50, return_sequences = True, input_shape = (X_train.shape[1], 1)))\n",
        "model.add(Dropout(0.2))\n",
        "# Adding a second LSTM layer and some Dropout regularisation\n",
        "model.add(LSTM(units = 50, return_sequences = True))\n",
        "model.add(Dropout(0.2))\n",
        "# Adding a third LSTM layer and some Dropout regularisation\n",
        "model.add(LSTM(units = 50, return_sequences = True))\n",
        "model.add(Dropout(0.2))\n",
        "# Adding a fourth LSTM layer and some Dropout regularisation\n",
        "model.add(LSTM(units = 50))\n",
        "model.add(Dropout(0.2))\n",
        "# Adding the output layer\n",
        "model.add(Dense(units = 1))\n",
        "\n",
        "# Compiling the LSTM\n",
        "model.compile(optimizer = 'adam', loss = 'mean_squared_error')\n",
        "\n",
        "# Fitting the RNN to the Training set\n",
        "model.fit(X_train, y_train, epochs = 100, batch_size = 32)"
      ],
      "execution_count": null,
      "outputs": [
        {
          "output_type": "stream",
          "name": "stdout",
          "text": [
            "Epoch 1/100\n",
            "28/28 [==============================] - 10s 101ms/step - loss: 0.0324\n",
            "Epoch 2/100\n",
            "28/28 [==============================] - 3s 104ms/step - loss: 0.0073\n",
            "Epoch 3/100\n",
            "28/28 [==============================] - 3s 101ms/step - loss: 0.0068\n",
            "Epoch 4/100\n",
            "28/28 [==============================] - 3s 102ms/step - loss: 0.0064\n",
            "Epoch 5/100\n",
            "28/28 [==============================] - 3s 102ms/step - loss: 0.0058\n",
            "Epoch 6/100\n",
            "28/28 [==============================] - 3s 103ms/step - loss: 0.0053\n",
            "Epoch 7/100\n",
            "28/28 [==============================] - 3s 103ms/step - loss: 0.0051\n",
            "Epoch 8/100\n",
            "28/28 [==============================] - 3s 102ms/step - loss: 0.0051\n",
            "Epoch 9/100\n",
            "28/28 [==============================] - 3s 103ms/step - loss: 0.0042\n",
            "Epoch 10/100\n",
            "28/28 [==============================] - 3s 105ms/step - loss: 0.0041\n",
            "Epoch 11/100\n",
            "28/28 [==============================] - 3s 106ms/step - loss: 0.0041\n",
            "Epoch 12/100\n",
            "28/28 [==============================] - 3s 102ms/step - loss: 0.0044\n",
            "Epoch 13/100\n",
            "28/28 [==============================] - 3s 105ms/step - loss: 0.0041\n",
            "Epoch 14/100\n",
            "28/28 [==============================] - 3s 102ms/step - loss: 0.0036\n",
            "Epoch 15/100\n",
            "28/28 [==============================] - 3s 102ms/step - loss: 0.0043\n",
            "Epoch 16/100\n",
            "28/28 [==============================] - 3s 105ms/step - loss: 0.0035\n",
            "Epoch 17/100\n",
            "28/28 [==============================] - 3s 104ms/step - loss: 0.0037\n",
            "Epoch 18/100\n",
            "28/28 [==============================] - 3s 104ms/step - loss: 0.0034\n",
            "Epoch 19/100\n",
            "28/28 [==============================] - 3s 105ms/step - loss: 0.0036\n",
            "Epoch 20/100\n",
            "28/28 [==============================] - 3s 103ms/step - loss: 0.0042\n",
            "Epoch 21/100\n",
            "28/28 [==============================] - 3s 108ms/step - loss: 0.0037\n",
            "Epoch 22/100\n",
            "28/28 [==============================] - 3s 105ms/step - loss: 0.0034\n",
            "Epoch 23/100\n",
            "28/28 [==============================] - 3s 106ms/step - loss: 0.0033\n",
            "Epoch 24/100\n",
            "28/28 [==============================] - 3s 107ms/step - loss: 0.0035\n",
            "Epoch 25/100\n",
            "28/28 [==============================] - 3s 105ms/step - loss: 0.0031\n",
            "Epoch 26/100\n",
            "28/28 [==============================] - 3s 103ms/step - loss: 0.0029\n",
            "Epoch 27/100\n",
            "28/28 [==============================] - 3s 103ms/step - loss: 0.0030\n",
            "Epoch 28/100\n",
            "28/28 [==============================] - 3s 103ms/step - loss: 0.0031\n",
            "Epoch 29/100\n",
            "28/28 [==============================] - 3s 106ms/step - loss: 0.0029\n",
            "Epoch 30/100\n",
            "28/28 [==============================] - 3s 103ms/step - loss: 0.0029\n",
            "Epoch 31/100\n",
            "28/28 [==============================] - 3s 105ms/step - loss: 0.0030\n",
            "Epoch 32/100\n",
            "28/28 [==============================] - 3s 101ms/step - loss: 0.0031\n",
            "Epoch 33/100\n",
            "28/28 [==============================] - 3s 102ms/step - loss: 0.0032\n",
            "Epoch 34/100\n",
            "28/28 [==============================] - 3s 102ms/step - loss: 0.0026\n",
            "Epoch 35/100\n",
            "28/28 [==============================] - 3s 104ms/step - loss: 0.0027\n",
            "Epoch 36/100\n",
            "28/28 [==============================] - 3s 104ms/step - loss: 0.0029\n",
            "Epoch 37/100\n",
            "28/28 [==============================] - 3s 101ms/step - loss: 0.0029\n",
            "Epoch 38/100\n",
            "28/28 [==============================] - 3s 103ms/step - loss: 0.0029\n",
            "Epoch 39/100\n",
            "28/28 [==============================] - 3s 105ms/step - loss: 0.0031\n",
            "Epoch 40/100\n",
            "28/28 [==============================] - 3s 105ms/step - loss: 0.0026\n",
            "Epoch 41/100\n",
            "28/28 [==============================] - 3s 103ms/step - loss: 0.0025\n",
            "Epoch 42/100\n",
            "28/28 [==============================] - 3s 103ms/step - loss: 0.0029\n",
            "Epoch 43/100\n",
            "28/28 [==============================] - 3s 102ms/step - loss: 0.0025\n",
            "Epoch 44/100\n",
            "28/28 [==============================] - 3s 104ms/step - loss: 0.0026\n",
            "Epoch 45/100\n",
            "28/28 [==============================] - 3s 103ms/step - loss: 0.0024\n",
            "Epoch 46/100\n",
            "28/28 [==============================] - 3s 104ms/step - loss: 0.0023\n",
            "Epoch 47/100\n",
            "28/28 [==============================] - 3s 103ms/step - loss: 0.0026\n",
            "Epoch 48/100\n",
            "28/28 [==============================] - 3s 103ms/step - loss: 0.0023\n",
            "Epoch 49/100\n",
            "28/28 [==============================] - 3s 103ms/step - loss: 0.0025\n",
            "Epoch 50/100\n",
            "28/28 [==============================] - 3s 106ms/step - loss: 0.0023\n",
            "Epoch 51/100\n",
            "28/28 [==============================] - 3s 108ms/step - loss: 0.0021\n",
            "Epoch 52/100\n",
            "28/28 [==============================] - 3s 104ms/step - loss: 0.0019\n",
            "Epoch 53/100\n",
            "28/28 [==============================] - 3s 105ms/step - loss: 0.0022\n",
            "Epoch 54/100\n",
            "28/28 [==============================] - 3s 103ms/step - loss: 0.0022\n",
            "Epoch 55/100\n",
            "28/28 [==============================] - 3s 106ms/step - loss: 0.0024\n",
            "Epoch 56/100\n",
            "28/28 [==============================] - 3s 103ms/step - loss: 0.0021\n",
            "Epoch 57/100\n",
            "28/28 [==============================] - 3s 102ms/step - loss: 0.0022\n",
            "Epoch 58/100\n",
            "28/28 [==============================] - 3s 104ms/step - loss: 0.0021\n",
            "Epoch 59/100\n",
            "28/28 [==============================] - 3s 102ms/step - loss: 0.0021\n",
            "Epoch 60/100\n",
            "28/28 [==============================] - 3s 102ms/step - loss: 0.0020\n",
            "Epoch 61/100\n",
            "28/28 [==============================] - 3s 104ms/step - loss: 0.0020\n",
            "Epoch 62/100\n",
            "28/28 [==============================] - 3s 102ms/step - loss: 0.0020\n",
            "Epoch 63/100\n",
            "28/28 [==============================] - 3s 104ms/step - loss: 0.0024\n",
            "Epoch 64/100\n",
            "28/28 [==============================] - 3s 104ms/step - loss: 0.0021\n",
            "Epoch 65/100\n",
            "28/28 [==============================] - 3s 105ms/step - loss: 0.0021\n",
            "Epoch 66/100\n",
            "28/28 [==============================] - 3s 106ms/step - loss: 0.0019\n",
            "Epoch 67/100\n",
            "28/28 [==============================] - 3s 103ms/step - loss: 0.0019\n",
            "Epoch 68/100\n",
            "28/28 [==============================] - 3s 103ms/step - loss: 0.0019\n",
            "Epoch 69/100\n",
            "28/28 [==============================] - 3s 102ms/step - loss: 0.0021\n",
            "Epoch 70/100\n",
            "28/28 [==============================] - 3s 102ms/step - loss: 0.0018\n",
            "Epoch 71/100\n",
            "28/28 [==============================] - 3s 107ms/step - loss: 0.0019\n",
            "Epoch 72/100\n",
            "28/28 [==============================] - 3s 105ms/step - loss: 0.0017\n",
            "Epoch 73/100\n",
            "28/28 [==============================] - 3s 104ms/step - loss: 0.0017\n",
            "Epoch 74/100\n",
            "28/28 [==============================] - 3s 103ms/step - loss: 0.0018\n",
            "Epoch 75/100\n",
            "28/28 [==============================] - 3s 103ms/step - loss: 0.0017\n",
            "Epoch 76/100\n",
            "28/28 [==============================] - 3s 104ms/step - loss: 0.0018\n",
            "Epoch 77/100\n",
            "28/28 [==============================] - 3s 105ms/step - loss: 0.0016\n",
            "Epoch 78/100\n",
            "28/28 [==============================] - 3s 102ms/step - loss: 0.0016\n",
            "Epoch 79/100\n",
            "28/28 [==============================] - 3s 105ms/step - loss: 0.0015\n",
            "Epoch 80/100\n",
            "28/28 [==============================] - 3s 103ms/step - loss: 0.0016\n",
            "Epoch 81/100\n",
            "28/28 [==============================] - 3s 101ms/step - loss: 0.0017\n",
            "Epoch 82/100\n",
            "28/28 [==============================] - 3s 104ms/step - loss: 0.0018\n",
            "Epoch 83/100\n",
            "28/28 [==============================] - 3s 103ms/step - loss: 0.0016\n",
            "Epoch 84/100\n",
            "28/28 [==============================] - 3s 103ms/step - loss: 0.0016\n",
            "Epoch 85/100\n",
            "28/28 [==============================] - 3s 104ms/step - loss: 0.0016\n",
            "Epoch 86/100\n",
            "28/28 [==============================] - 3s 103ms/step - loss: 0.0015\n",
            "Epoch 87/100\n",
            "28/28 [==============================] - 3s 102ms/step - loss: 0.0016\n",
            "Epoch 88/100\n",
            "28/28 [==============================] - 3s 105ms/step - loss: 0.0018\n",
            "Epoch 89/100\n",
            "28/28 [==============================] - 3s 102ms/step - loss: 0.0017\n",
            "Epoch 90/100\n",
            "28/28 [==============================] - 3s 103ms/step - loss: 0.0015\n",
            "Epoch 91/100\n",
            "28/28 [==============================] - 3s 106ms/step - loss: 0.0014\n",
            "Epoch 92/100\n",
            "28/28 [==============================] - 3s 104ms/step - loss: 0.0014\n",
            "Epoch 93/100\n",
            "28/28 [==============================] - 3s 105ms/step - loss: 0.0013\n",
            "Epoch 94/100\n",
            "28/28 [==============================] - 3s 104ms/step - loss: 0.0015\n",
            "Epoch 95/100\n",
            "28/28 [==============================] - 3s 103ms/step - loss: 0.0015\n",
            "Epoch 96/100\n",
            "28/28 [==============================] - 3s 104ms/step - loss: 0.0014\n",
            "Epoch 97/100\n",
            "28/28 [==============================] - 3s 104ms/step - loss: 0.0015\n",
            "Epoch 98/100\n",
            "28/28 [==============================] - 3s 106ms/step - loss: 0.0014\n",
            "Epoch 99/100\n",
            "28/28 [==============================] - 3s 103ms/step - loss: 0.0014\n",
            "Epoch 100/100\n",
            "28/28 [==============================] - 3s 106ms/step - loss: 0.0015\n"
          ]
        },
        {
          "output_type": "execute_result",
          "data": {
            "text/plain": [
              "<keras.callbacks.History at 0x7fe2f28e3390>"
            ]
          },
          "metadata": {},
          "execution_count": 18
        }
      ]
    },
    {
      "cell_type": "code",
      "metadata": {
        "colab": {
          "base_uri": "https://localhost:8080/"
        },
        "id": "zeC4ANWvVBl9",
        "outputId": "c1767933-8729-4c74-e1a6-98e921ea521c"
      },
      "source": [
        "print(model.evaluate(X_train,y_train))\n",
        "print(model.evaluate(X_test,Y_test))"
      ],
      "execution_count": null,
      "outputs": [
        {
          "output_type": "stream",
          "name": "stdout",
          "text": [
            "28/28 [==============================] - 3s 29ms/step - loss: 7.7439e-04\n",
            "0.0007743948372080922\n",
            "8/8 [==============================] - 0s 26ms/step - loss: 0.0270\n",
            "0.02702847681939602\n"
          ]
        }
      ]
    },
    {
      "cell_type": "code",
      "metadata": {
        "id": "uJv8uDKZLmkl"
      },
      "source": [
        "predicted_stock_price = model.predict(X_test)\n",
        "predicted_stock_price = sc.inverse_transform(predicted_stock_price)"
      ],
      "execution_count": null,
      "outputs": []
    },
    {
      "cell_type": "code",
      "metadata": {
        "colab": {
          "base_uri": "https://localhost:8080/"
        },
        "id": "4MBtuegmnJNU",
        "outputId": "f600f593-9c08-48ca-cf7d-09977bf85d7f"
      },
      "source": [
        "# Visualising the results\n",
        "plt.figure(figsize = (18,9))\n",
        "plt.plot(df.loc[index:, 'Date'],dataset_test.values, color = 'black', label = company+'Stock Price')\n",
        "plt.plot(df.loc[index:, 'Date'],predicted_stock_price, color = 'green', label = 'Predicted '+company+' Stock Price')\n",
        "plt.xticks(np.arange(0,200,30))\n",
        "plt.title('Stock Price Prediction')\n",
        "plt.xlabel('Time')\n",
        "plt.ylabel(company+' Stock Price')\n",
        "plt.legend()\n",
        "plt.show()"
      ],
      "execution_count": null,
      "outputs": [
        {
          "output_type": "display_data",
          "data": {
            "image/png": "[encoded data removed]",
            "text/plain": [
              "<Figure size 1296x648 with 1 Axes>"
            ]
          },
          "metadata": {
            "needs_background": "light"
          }
        }
      ]
    },
    {
      "cell_type": "code",
      "metadata": {
        "colab": {
          "base_uri": "https://localhost:8080/"
        },
        "id": "4sR70XWg3tJZ",
        "outputId": "4e081bfc-688f-43dc-c7f7-489414f77e79"
      },
      "source": [
        "#Getting RMSE\n",
        "rmse=np.sqrt(np.mean(((predicted_stock_price-dataset_test.values)**2)))\n",
        "print(\"Root mean square error is: \",rmse)"
      ],
      "execution_count": null,
      "outputs": [
        {
          "output_type": "stream",
          "name": "stdout",
          "text": [
            "Root mean square error is:  153.04374244277736\n"
          ]
        }
      ]
    },
    {
      "cell_type": "code",
      "metadata": {
        "colab": {
          "base_uri": "https://localhost:8080/"
        },
        "id": "HO4yRmqb4G0r",
        "outputId": "613a5b3d-1ca1-4878-906a-9c3de4d6eddc"
      },
      "source": [
        "#Mean absolute percentage error\n",
        "mape=np.mean(np.abs((predicted_stock_price-dataset_test.values)/dataset_test.values))*100\n",
        "print(\"Mean absolute percentage error is: \",mape)"
      ],
      "execution_count": null,
      "outputs": [
        {
          "output_type": "stream",
          "name": "stdout",
          "text": [
            "Mean absolute percentage error is:  4.864574675339644\n"
          ]
        }
      ]
    },
    {
      "cell_type": "markdown",
      "metadata": {
        "id": "2Eix0BZomORl"
      },
      "source": [
        "#Stock price prediction with related companies\n",
        "\n",
        "Using related stocks historic data along with the targeted company to get better results\n"
      ]
    },
    {
      "cell_type": "code",
      "metadata": {
        "colab": {
          "base_uri": "https://localhost:8080/"
        },
        "id": "CWLLaM21me4O",
        "outputId": "dc9dc3b2-a474-40a4-e299-3f9829fb5247"
      },
      "source": [
        "#company=input(\"Enter stock name: \")\n",
        "company=\"GOOG\"\n",
        "if company in ordered_companies:\n",
        "  index=str(ordered_companies.index(company))\n",
        "  similar_companies=embed_model.wv.most_similar(index)\n",
        "  print(\"Related companies are-\")\n",
        "  for comp in similar_companies:\n",
        "    stock=ordered_companies[int(comp[0])]\n",
        "    similarity=comp[1]\n",
        "    print(stock,similarity)\n",
        "else:\n",
        "  print(\"Company not valid option, pls select from these: \", ordered_companies) "
      ],
      "execution_count": null,
      "outputs": [
        {
          "output_type": "stream",
          "name": "stdout",
          "text": [
            "Related companies are-\n",
            "LLY 0.3899253010749817\n",
            "ALB 0.38187676668167114\n",
            "TAP 0.3784782290458679\n",
            "ES 0.3714468479156494\n",
            "CNP 0.36066192388534546\n",
            "MCO 0.3353883922100067\n",
            "ROL 0.3322245180606842\n",
            "CRM 0.32966965436935425\n",
            "KR 0.3246668875217438\n",
            "PYPL 0.31469690799713135\n"
          ]
        }
      ]
    },
    {
      "cell_type": "code",
      "metadata": {
        "colab": {
          "base_uri": "https://localhost:8080/"
        },
        "id": "y9ocZq7X6ygb",
        "outputId": "e7b849fd-771a-44d6-beaf-e005bcd55c78"
      },
      "source": [
        "average=[0 for i in range(len(test_data)+len(train_data))]\n",
        "\n",
        "for comp in similar_companies:\n",
        "  sc_new = MinMaxScaler(feature_range = (0, 1))\n",
        "  stock=ordered_companies[int(comp[0])]\n",
        "  print(stock)\n",
        "  df = pd.read_excel('/content/drive/MyDrive/Major_Project/Trade_data.xls',sheet_name=stock)\n",
        "  print(df)\n",
        "\n",
        "  df_scaled_new = sc_new.fit_transform(df.iloc[:,1:2].values)\n",
        "  for i in range(len(df_scaled_new)):\n",
        "    average[i]+=df_scaled_new[i][0]\n",
        "  print(df_scaled_new)\n",
        "\n",
        "for i in range(len(df_scaled_new)):\n",
        "  df_scaled_new[i][0]=average[i]/10\n",
        "\n",
        "average=df_scaled_new\n",
        "print(\"Final\",average)"
      ],
      "execution_count": null,
      "outputs": [
        {
          "output_type": "stream",
          "name": "stdout",
          "text": [
            "LLY\n",
            "                     Date        Open  ...   Adj Close   Volume\n",
            "0     2017-01-03 00:00:00   73.940002  ...   67.191345  3622700\n",
            "1     2017-01-04 00:00:00   74.949997  ...   67.299454  3021600\n",
            "2     2017-01-05 00:00:00   74.930000  ...   68.083023  3310800\n",
            "3     2017-01-06 00:00:00   75.459999  ...   68.155090  2296500\n",
            "4     2017-01-09 00:00:00   75.669998  ...   68.695488  3204100\n",
            "...                   ...         ...  ...         ...      ...\n",
            "1157  2021-08-09 00:00:00  264.579987  ...  266.300171  3238500\n",
            "1158  2021-08-10 00:00:00  266.750000  ...  268.582794  2060200\n",
            "1159  2021-08-11 00:00:00  269.589996  ...  263.250000  2813300\n",
            "1160  2021-08-12 00:00:00  263.200012  ...  263.470001  2100900\n",
            "1161  2021-08-13 00:00:00  263.149994  ...  264.209991  1482300\n",
            "\n",
            "[1162 rows x 7 columns]\n",
            "[[0.        ]\n",
            " [0.00516225]\n",
            " [0.00506005]\n",
            " ...\n",
            " [1.        ]\n",
            " [0.96733972]\n",
            " [0.96708407]]\n",
            "ALB\n",
            "                     Date        Open  ...   Adj Close   Volume\n",
            "0     2017-01-03 00:00:00   87.150002  ...   82.354057   975600\n",
            "1     2017-01-04 00:00:00   88.720001  ...   84.832588  1147600\n",
            "2     2017-01-05 00:00:00   90.639999  ...   84.542671   913200\n",
            "3     2017-01-06 00:00:00   90.620003  ...   84.935493   550900\n",
            "4     2017-01-09 00:00:00   90.730003  ...   84.626816   936100\n",
            "...                   ...         ...  ...         ...      ...\n",
            "1157  2021-08-09 00:00:00  224.710007  ...  231.380005  1425200\n",
            "1158  2021-08-10 00:00:00  232.300003  ...  239.029999  1977900\n",
            "1159  2021-08-11 00:00:00  240.000000  ...  235.990005  1916300\n",
            "1160  2021-08-12 00:00:00  235.610001  ...  236.539993  1089600\n",
            "1161  2021-08-13 00:00:00  237.960007  ...  235.220001   849200\n",
            "\n",
            "[1162 rows x 7 columns]\n",
            "[[0.1853214 ]\n",
            " [0.19368937]\n",
            " [0.20392281]\n",
            " ...\n",
            " [1.        ]\n",
            " [0.97660164]\n",
            " [0.98912699]]\n",
            "TAP\n",
            "                     Date       Open        High  ...      Close  Adj Close   Volume\n",
            "0     2017-01-03 00:00:00  97.889999   98.589996  ...  97.879997  89.387337  1104900\n",
            "1     2017-01-04 00:00:00  98.430000   99.519997  ...  99.410004  90.784592  1213400\n",
            "2     2017-01-05 00:00:00  99.480003  100.279999  ...  99.680000  91.031166  2072700\n",
            "3     2017-01-06 00:00:00  99.669998  100.209999  ...  99.790001  91.131638   879500\n",
            "4     2017-01-09 00:00:00  99.680000   99.680000  ...  98.279999  89.752632  1347700\n",
            "...                   ...        ...         ...  ...        ...        ...      ...\n",
            "1157  2021-08-09 00:00:00  49.000000   49.650002  ...  49.340000  49.340000  1045700\n",
            "1158  2021-08-10 00:00:00  49.419998   51.360001  ...  51.200001  51.200001  2366000\n",
            "1159  2021-08-11 00:00:00  51.430000   52.150002  ...  52.049999  52.049999  2334800\n",
            "1160  2021-08-12 00:00:00  52.160000   52.160000  ...  50.369999  50.369999  1300100\n",
            "1161  2021-08-13 00:00:00  50.549999   51.189999  ...  50.540001  50.540001  1110500\n",
            "\n",
            "[1162 rows x 7 columns]\n",
            "[[0.95265841]\n",
            " [0.96052441]\n",
            " [0.97581943]\n",
            " ...\n",
            " [0.2758922 ]\n",
            " [0.28652584]\n",
            " [0.26307353]]\n",
            "ES\n",
            "                     Date       Open       High  ...      Close  Adj Close   Volume\n",
            "0     2017-01-03 00:00:00  55.250000  55.430000  ...  55.080002  48.213711  1123100\n",
            "1     2017-01-04 00:00:00  55.169998  55.619999  ...  55.270000  48.380020  1264600\n",
            "2     2017-01-05 00:00:00  55.490002  55.490002  ...  55.279999  48.388771  1590700\n",
            "3     2017-01-06 00:00:00  54.840000  55.480000  ...  55.259998  48.371265  1224200\n",
            "4     2017-01-09 00:00:00  55.310001  55.509998  ...  54.570000  47.767296  1302800\n",
            "...                   ...        ...        ...  ...        ...        ...      ...\n",
            "1157  2021-08-09 00:00:00  89.269997  89.410004  ...  88.949997  88.949997   872900\n",
            "1158  2021-08-10 00:00:00  89.059998  89.260002  ...  88.919998  88.919998   863200\n",
            "1159  2021-08-11 00:00:00  89.250000  89.980003  ...  89.919998  89.919998  1061700\n",
            "1160  2021-08-12 00:00:00  89.930000  90.419998  ...  89.599998  89.599998  1197800\n",
            "1161  2021-08-13 00:00:00  89.790001  90.459999  ...  90.440002  90.440002  1401400\n",
            "\n",
            "[1162 rows x 7 columns]\n",
            "[[0.05447993]\n",
            " [0.05267889]\n",
            " [0.05988293]\n",
            " ...\n",
            " [0.81990094]\n",
            " [0.83520937]\n",
            " [0.83205765]]\n",
            "CNP\n",
            "                     Date       Open       High  ...      Close  Adj Close   Volume\n",
            "0     2017-01-03 00:00:00  24.719999  24.740000  ...  24.590000  20.684347  2246400\n",
            "1     2017-01-04 00:00:00  24.700001  25.120001  ...  24.809999  20.869404  3758700\n",
            "2     2017-01-05 00:00:00  24.790001  25.000000  ...  24.809999  20.869404  3079600\n",
            "3     2017-01-06 00:00:00  24.799999  25.450001  ...  25.360001  21.332047  3202300\n",
            "4     2017-01-09 00:00:00  25.410000  25.450001  ...  24.879999  20.928286  2497700\n",
            "...                   ...        ...        ...  ...        ...        ...      ...\n",
            "1157  2021-08-09 00:00:00  26.440001  26.559999  ...  26.540001  26.381847  3778900\n",
            "1158  2021-08-10 00:00:00  26.540001  26.709999  ...  26.620001  26.461370  5009700\n",
            "1159  2021-08-11 00:00:00  26.629999  26.840000  ...  26.809999  26.650238  5059600\n",
            "1160  2021-08-12 00:00:00  26.790001  26.830000  ...  26.750000  26.590595  2492700\n",
            "1161  2021-08-13 00:00:00  26.870001  26.920000  ...  26.900000  26.739702  2225200\n",
            "\n",
            "[1162 rows x 7 columns]\n",
            "[[0.64968485]\n",
            " [0.64863451]\n",
            " [0.65336141]\n",
            " ...\n",
            " [0.74999997]\n",
            " [0.75840343]\n",
            " [0.76260511]]\n",
            "MCO\n",
            "                     Date        Open  ...   Adj Close   Volume\n",
            "0     2017-01-03 00:00:00   95.010002  ...   91.208656  1180900\n",
            "1     2017-01-04 00:00:00   95.550003  ...   92.756317   859900\n",
            "2     2017-01-05 00:00:00   96.800003  ...   93.491959  1274500\n",
            "3     2017-01-06 00:00:00   98.019997  ...   93.912331  1065100\n",
            "4     2017-01-09 00:00:00   97.970001  ...   92.536591   682000\n",
            "...                   ...         ...  ...         ...      ...\n",
            "1157  2021-08-09 00:00:00  385.859985  ...  382.420013   510900\n",
            "1158  2021-08-10 00:00:00  383.160004  ...  380.350006   366400\n",
            "1159  2021-08-11 00:00:00  382.209991  ...  380.000000   473000\n",
            "1160  2021-08-12 00:00:00  378.769989  ...  378.929993   411000\n",
            "1161  2021-08-13 00:00:00  380.250000  ...  380.649994   409400\n",
            "\n",
            "[1162 rows x 7 columns]\n",
            "[[0.00198407]\n",
            " [0.0038313 ]\n",
            " [0.00810729]\n",
            " ...\n",
            " [0.98443534]\n",
            " [0.97266781]\n",
            " [0.97773061]]\n",
            "ROL\n",
            "                     Date       Open       High  ...      Close  Adj Close   Volume\n",
            "0     2017-01-03 00:00:00  15.111111  15.111111  ...  14.884444  14.103798  1115775\n",
            "1     2017-01-04 00:00:00  14.955556  15.084444  ...  15.017778  14.230139  1201275\n",
            "2     2017-01-05 00:00:00  14.973333  15.008889  ...  14.942222  14.158546  2436525\n",
            "3     2017-01-06 00:00:00  14.911111  14.982222  ...  14.862222  14.082742   927450\n",
            "4     2017-01-09 00:00:00  14.782222  14.853333  ...  14.724444  13.952189   926325\n",
            "...                   ...        ...        ...  ...        ...        ...      ...\n",
            "1157  2021-08-09 00:00:00  38.230000  38.330002  ...  37.680000  37.680000  1006600\n",
            "1158  2021-08-10 00:00:00  37.599998  37.689999  ...  37.380001  37.380001   777000\n",
            "1159  2021-08-11 00:00:00  37.400002  37.660000  ...  37.389999  37.389999   721200\n",
            "1160  2021-08-12 00:00:00  37.220001  37.310001  ...  37.189999  37.189999   646000\n",
            "1161  2021-08-13 00:00:00  37.200001  37.220001  ...  37.150002  37.150002   910800\n",
            "\n",
            "[1162 rows x 7 columns]\n",
            "[[0.01589191]\n",
            " [0.01032976]\n",
            " [0.01096543]\n",
            " ...\n",
            " [0.81287258]\n",
            " [0.80643633]\n",
            " [0.80572118]]\n",
            "CRM\n",
            "                     Date        Open  ...   Adj Close   Volume\n",
            "0     2017-01-03 00:00:00   69.290001  ...   70.540001  8112200\n",
            "1     2017-01-04 00:00:00   71.080002  ...   72.800003  9289500\n",
            "2     2017-01-05 00:00:00   72.809998  ...   72.790001  4695600\n",
            "3     2017-01-06 00:00:00   72.889999  ...   73.800003  4466100\n",
            "4     2017-01-09 00:00:00   74.050003  ...   73.959999  3933100\n",
            "...                   ...         ...  ...         ...      ...\n",
            "1157  2021-08-09 00:00:00  251.419998  ...  249.320007  3312200\n",
            "1158  2021-08-10 00:00:00  250.869995  ...  243.389999  4430600\n",
            "1159  2021-08-11 00:00:00  244.669998  ...  242.279999  3999200\n",
            "1160  2021-08-12 00:00:00  242.500000  ...  248.389999  4467400\n",
            "1161  2021-08-13 00:00:00  251.710007  ...  251.559998  5985700\n",
            "\n",
            "[1162 rows x 7 columns]\n",
            "[[0.        ]\n",
            " [0.00835746]\n",
            " [0.01643476]\n",
            " ...\n",
            " [0.81884395]\n",
            " [0.80871229]\n",
            " [0.85171354]]\n",
            "KR\n",
            "                     Date       Open       High  ...      Close  Adj Close   Volume\n",
            "0     2017-01-03 00:00:00  34.500000  34.509998  ...  33.720001  30.606079  9555700\n",
            "1     2017-01-04 00:00:00  33.779999  33.840000  ...  33.240002  30.170404  9158500\n",
            "2     2017-01-05 00:00:00  33.139999  33.259998  ...  33.209999  30.143171  9937900\n",
            "3     2017-01-06 00:00:00  33.119999  33.180000  ...  33.110001  30.052414  9289700\n",
            "4     2017-01-09 00:00:00  33.169998  33.189999  ...  32.919998  29.879953  5922600\n",
            "...                   ...        ...        ...  ...        ...        ...      ...\n",
            "1157  2021-08-09 00:00:00  41.849998  42.400002  ...  42.279999  42.073517  4509900\n",
            "1158  2021-08-10 00:00:00  42.360001  43.209999  ...  42.779999  42.571075  5590900\n",
            "1159  2021-08-11 00:00:00  42.709999  43.169998  ...  43.000000  42.790001  5149600\n",
            "1160  2021-08-12 00:00:00  42.919998  42.990002  ...  42.639999  42.639999  4293000\n",
            "1161  2021-08-13 00:00:00  42.689999  42.980000  ...  42.810001  42.810001  3587100\n",
            "\n",
            "[1162 rows x 7 columns]\n",
            "[[0.63343495]\n",
            " [0.60208966]\n",
            " [0.57422726]\n",
            " ...\n",
            " [0.99085768]\n",
            " [1.        ]\n",
            " [0.98998696]]\n",
            "PYPL\n",
            "                     Date        Open  ...   Adj Close   Volume\n",
            "0     2017-01-03 00:00:00   40.290001  ...   40.250000  8247400\n",
            "1     2017-01-04 00:00:00   40.349998  ...   41.000000  6806400\n",
            "2     2017-01-05 00:00:00   41.430000  ...   41.060001  6432000\n",
            "3     2017-01-06 00:00:00   41.240002  ...   41.450001  5586400\n",
            "4     2017-01-09 00:00:00   41.490002  ...   41.400002  3943900\n",
            "...                   ...         ...  ...         ...      ...\n",
            "1157  2021-08-09 00:00:00  280.220001  ...  278.149994  3823000\n",
            "1158  2021-08-10 00:00:00  278.940002  ...  274.369995  6264100\n",
            "1159  2021-08-11 00:00:00  277.441986  ...  276.410004  5785900\n",
            "1160  2021-08-12 00:00:00  274.250000  ...  274.589996  4509100\n",
            "1161  2021-08-13 00:00:00  276.170013  ...  274.910004  4095300\n",
            "\n",
            "[1162 rows x 7 columns]\n",
            "[[0.00329312]\n",
            " [0.00351512]\n",
            " [0.00751128]\n",
            " ...\n",
            " [0.88078881]\n",
            " [0.86897801]\n",
            " [0.87608233]]\n",
            "Final [[0.24967486]\n",
            " [0.24888127]\n",
            " [0.25152926]\n",
            " ...\n",
            " [0.83335915]\n",
            " [0.82808744]\n",
            " [0.8315182 ]]\n"
          ]
        }
      ]
    },
    {
      "cell_type": "code",
      "metadata": {
        "colab": {
          "base_uri": "https://localhost:8080/"
        },
        "id": "-PKJ00PoeE56",
        "outputId": "23153e2a-1791-4158-f973-2aed33ede2cd"
      },
      "source": [
        "sc=MinMaxScaler(feature_range = (0, 1))\n",
        "scaled_target=sc.fit_transform(dataset_total)\n",
        "final_array=[]\n",
        "for i in range(len(scaled_target)):\n",
        "  final_array.append([average[i][0],scaled_target[i][0]])\n",
        "final_array=np.array(final_array)\n",
        "print(final_array,len(final_array))"
      ],
      "execution_count": null,
      "outputs": [
        {
          "output_type": "stream",
          "name": "stdout",
          "text": [
            "[[0.24967486 0.        ]\n",
            " [0.24888127 0.00472442]\n",
            " [0.25152926 0.00359651]\n",
            " ...\n",
            " [0.83335915 0.98290299]\n",
            " [0.82808744 0.97726341]\n",
            " [0.8315182  0.9836401 ]] 1162\n"
          ]
        }
      ]
    },
    {
      "cell_type": "code",
      "metadata": {
        "colab": {
          "base_uri": "https://localhost:8080/"
        },
        "id": "Ac3-jzkC5B-W",
        "outputId": "d79e8c02-e89a-4b07-fe50-b84d3d111088"
      },
      "source": [
        "index=int(0.8*len(final_array))\n",
        "\n",
        "train_data = final_array[:index]\n",
        "test_data = final_array[index:]\n",
        "\n",
        "total_data = final_array[:]\n",
        "\n",
        "print(\"Train data: \",len(train_data))\n",
        "print(\"Test data: \",len(test_data))\n",
        "print(\"Total data: \",len(total_data))"
      ],
      "execution_count": null,
      "outputs": [
        {
          "output_type": "stream",
          "name": "stdout",
          "text": [
            "Train data:  929\n",
            "Test data:  233\n",
            "Total data:  1162\n"
          ]
        }
      ]
    },
    {
      "cell_type": "code",
      "metadata": {
        "colab": {
          "base_uri": "https://localhost:8080/"
        },
        "id": "VD6m5RAqjeKe",
        "outputId": "48062684-ec72-4e55-8283-13ee7c56e5d1"
      },
      "source": [
        "X_train = []\n",
        "y_train = []\n",
        "for i in range(60, len(train_data)):\n",
        "    X_train.append(train_data[i-50:i])\n",
        "    y_train.append(train_data[i, 1])\n",
        "X_train, y_train = np.array(X_train), np.array(y_train)\n",
        "X_train = np.reshape(X_train, (X_train.shape[0], X_train.shape[1], 2))\n",
        "print(X_train.shape)"
      ],
      "execution_count": null,
      "outputs": [
        {
          "output_type": "stream",
          "name": "stdout",
          "text": [
            "(869, 50, 2)\n"
          ]
        }
      ]
    },
    {
      "cell_type": "code",
      "metadata": {
        "colab": {
          "base_uri": "https://localhost:8080/"
        },
        "id": "oEeOZtM3QDSr",
        "outputId": "ca5dd18e-95ac-4943-9400-23c80de466bc"
      },
      "source": [
        "inputs = total_data[len(total_data) - len(test_data) - 60:]\n",
        "X_test = []\n",
        "Y_test = []\n",
        "for i in range(60, len(test_data)+60):\n",
        "    X_test.append(inputs[i-50:i])\n",
        "    Y_test.append(inputs[i,1])\n",
        "X_test,Y_test = np.array(X_test), np.array(Y_test)\n",
        "X_test = np.reshape(X_test, (X_test.shape[0], X_test.shape[1], 2))\n",
        "print(X_test.shape)"
      ],
      "execution_count": null,
      "outputs": [
        {
          "output_type": "stream",
          "name": "stdout",
          "text": [
            "(233, 50, 2)\n"
          ]
        }
      ]
    },
    {
      "cell_type": "code",
      "metadata": {
        "colab": {
          "base_uri": "https://localhost:8080/"
        },
        "id": "qKz-kUkH5TIp",
        "outputId": "f31640e8-0d48-4b97-be86-09de32afdd6f"
      },
      "source": [
        "from keras.models import Sequential\n",
        "from keras.layers import Dense\n",
        "from keras.layers import LSTM\n",
        "from keras.layers import Dropout\n",
        "\n",
        "\n",
        "regressor = Sequential()\n",
        "\n",
        "regressor.add(LSTM(units = 50, return_sequences = True, input_shape = (X_train.shape[1], 2)))\n",
        "regressor.add(Dropout(0.2))\n",
        "\n",
        "regressor.add(LSTM(units = 50, return_sequences = True))\n",
        "regressor.add(Dropout(0.2))\n",
        "\n",
        "regressor.add(LSTM(units = 50, return_sequences = True))\n",
        "regressor.add(Dropout(0.2))\n",
        "\n",
        "regressor.add(LSTM(units = 50))\n",
        "regressor.add(Dropout(0.2))\n",
        "\n",
        "regressor.add(Dense(units = 1))\n",
        "\n",
        "regressor.compile(optimizer = 'adam', loss = 'mean_squared_error')\n",
        "\n",
        "regressor.fit(X_train, y_train, epochs = 100, batch_size = 32)\n"
      ],
      "execution_count": null,
      "outputs": [
        {
          "output_type": "stream",
          "name": "stdout",
          "text": [
            "Epoch 1/100\n",
            "28/28 [==============================] - 11s 106ms/step - loss: 0.0094\n",
            "Epoch 2/100\n",
            "28/28 [==============================] - 3s 105ms/step - loss: 0.0021\n",
            "Epoch 3/100\n",
            "28/28 [==============================] - 3s 109ms/step - loss: 0.0018\n",
            "Epoch 4/100\n",
            "28/28 [==============================] - 3s 106ms/step - loss: 0.0014\n",
            "Epoch 5/100\n",
            "28/28 [==============================] - 3s 107ms/step - loss: 0.0013\n",
            "Epoch 6/100\n",
            "28/28 [==============================] - 3s 109ms/step - loss: 0.0012\n",
            "Epoch 7/100\n",
            "28/28 [==============================] - 3s 108ms/step - loss: 0.0014\n",
            "Epoch 8/100\n",
            "28/28 [==============================] - 3s 107ms/step - loss: 0.0012\n",
            "Epoch 9/100\n",
            "28/28 [==============================] - 3s 106ms/step - loss: 0.0011\n",
            "Epoch 10/100\n",
            "28/28 [==============================] - 3s 108ms/step - loss: 0.0011\n",
            "Epoch 11/100\n",
            "28/28 [==============================] - 3s 106ms/step - loss: 0.0012\n",
            "Epoch 12/100\n",
            "28/28 [==============================] - 3s 107ms/step - loss: 0.0010\n",
            "Epoch 13/100\n",
            "28/28 [==============================] - 3s 105ms/step - loss: 0.0010\n",
            "Epoch 14/100\n",
            "28/28 [==============================] - 3s 109ms/step - loss: 0.0010\n",
            "Epoch 15/100\n",
            "28/28 [==============================] - 3s 111ms/step - loss: 9.0248e-04\n",
            "Epoch 16/100\n",
            "28/28 [==============================] - 3s 111ms/step - loss: 8.6901e-04\n",
            "Epoch 17/100\n",
            "28/28 [==============================] - 3s 109ms/step - loss: 7.9478e-04\n",
            "Epoch 18/100\n",
            "28/28 [==============================] - 3s 107ms/step - loss: 7.6878e-04\n",
            "Epoch 19/100\n",
            "28/28 [==============================] - 3s 112ms/step - loss: 8.9590e-04\n",
            "Epoch 20/100\n",
            "28/28 [==============================] - 3s 109ms/step - loss: 7.5828e-04\n",
            "Epoch 21/100\n",
            "28/28 [==============================] - 3s 111ms/step - loss: 7.8980e-04\n",
            "Epoch 22/100\n",
            "28/28 [==============================] - 3s 106ms/step - loss: 8.4859e-04\n",
            "Epoch 23/100\n",
            "28/28 [==============================] - 3s 107ms/step - loss: 6.5381e-04\n",
            "Epoch 24/100\n",
            "28/28 [==============================] - 3s 107ms/step - loss: 7.3026e-04\n",
            "Epoch 25/100\n",
            "28/28 [==============================] - 3s 111ms/step - loss: 6.9652e-04\n",
            "Epoch 26/100\n",
            "28/28 [==============================] - 3s 110ms/step - loss: 7.4727e-04\n",
            "Epoch 27/100\n",
            "28/28 [==============================] - 3s 107ms/step - loss: 6.4653e-04\n",
            "Epoch 28/100\n",
            "28/28 [==============================] - 3s 109ms/step - loss: 6.6126e-04\n",
            "Epoch 29/100\n",
            "28/28 [==============================] - 3s 105ms/step - loss: 6.7895e-04\n",
            "Epoch 30/100\n",
            "28/28 [==============================] - 3s 106ms/step - loss: 7.1312e-04\n",
            "Epoch 31/100\n",
            "28/28 [==============================] - 3s 108ms/step - loss: 6.2125e-04\n",
            "Epoch 32/100\n",
            "28/28 [==============================] - 3s 104ms/step - loss: 5.7329e-04\n",
            "Epoch 33/100\n",
            "28/28 [==============================] - 3s 104ms/step - loss: 6.4867e-04\n",
            "Epoch 34/100\n",
            "28/28 [==============================] - 3s 108ms/step - loss: 6.2934e-04\n",
            "Epoch 35/100\n",
            "28/28 [==============================] - 3s 109ms/step - loss: 5.8943e-04\n",
            "Epoch 36/100\n",
            "28/28 [==============================] - 3s 110ms/step - loss: 6.2728e-04\n",
            "Epoch 37/100\n",
            "28/28 [==============================] - 3s 108ms/step - loss: 6.8452e-04\n",
            "Epoch 38/100\n",
            "28/28 [==============================] - 3s 108ms/step - loss: 5.4372e-04\n",
            "Epoch 39/100\n",
            "28/28 [==============================] - 3s 106ms/step - loss: 6.2152e-04\n",
            "Epoch 40/100\n",
            "28/28 [==============================] - 3s 109ms/step - loss: 4.8566e-04\n",
            "Epoch 41/100\n",
            "28/28 [==============================] - 3s 111ms/step - loss: 5.5930e-04\n",
            "Epoch 42/100\n",
            "28/28 [==============================] - 3s 109ms/step - loss: 5.4146e-04\n",
            "Epoch 43/100\n",
            "28/28 [==============================] - 3s 108ms/step - loss: 5.6019e-04\n",
            "Epoch 44/100\n",
            "28/28 [==============================] - 3s 107ms/step - loss: 5.8375e-04\n",
            "Epoch 45/100\n",
            "28/28 [==============================] - 3s 110ms/step - loss: 4.9501e-04\n",
            "Epoch 46/100\n",
            "28/28 [==============================] - 3s 109ms/step - loss: 4.8756e-04\n",
            "Epoch 47/100\n",
            "28/28 [==============================] - 3s 105ms/step - loss: 5.9186e-04\n",
            "Epoch 48/100\n",
            "28/28 [==============================] - 3s 106ms/step - loss: 4.8040e-04\n",
            "Epoch 49/100\n",
            "28/28 [==============================] - 3s 107ms/step - loss: 5.1060e-04\n",
            "Epoch 50/100\n",
            "28/28 [==============================] - 3s 106ms/step - loss: 4.8291e-04\n",
            "Epoch 51/100\n",
            "28/28 [==============================] - 3s 108ms/step - loss: 4.5351e-04\n",
            "Epoch 52/100\n",
            "28/28 [==============================] - 3s 107ms/step - loss: 4.7378e-04\n",
            "Epoch 53/100\n",
            "28/28 [==============================] - 3s 108ms/step - loss: 4.7145e-04\n",
            "Epoch 54/100\n",
            "28/28 [==============================] - 3s 107ms/step - loss: 4.7594e-04\n",
            "Epoch 55/100\n",
            "28/28 [==============================] - 3s 112ms/step - loss: 4.4136e-04\n",
            "Epoch 56/100\n",
            "28/28 [==============================] - 3s 111ms/step - loss: 4.3595e-04\n",
            "Epoch 57/100\n",
            "28/28 [==============================] - 3s 109ms/step - loss: 5.8296e-04\n",
            "Epoch 58/100\n",
            "28/28 [==============================] - 3s 109ms/step - loss: 4.3284e-04\n",
            "Epoch 59/100\n",
            "28/28 [==============================] - 3s 112ms/step - loss: 4.3932e-04\n",
            "Epoch 60/100\n",
            "28/28 [==============================] - 3s 110ms/step - loss: 4.2601e-04\n",
            "Epoch 61/100\n",
            "28/28 [==============================] - 3s 115ms/step - loss: 4.5906e-04\n",
            "Epoch 62/100\n",
            "28/28 [==============================] - 3s 111ms/step - loss: 4.1904e-04\n",
            "Epoch 63/100\n",
            "28/28 [==============================] - 3s 109ms/step - loss: 3.9601e-04\n",
            "Epoch 64/100\n",
            "28/28 [==============================] - 3s 110ms/step - loss: 3.9796e-04\n",
            "Epoch 65/100\n",
            "28/28 [==============================] - 3s 112ms/step - loss: 4.1689e-04\n",
            "Epoch 66/100\n",
            "28/28 [==============================] - 3s 109ms/step - loss: 4.0015e-04\n",
            "Epoch 67/100\n",
            "28/28 [==============================] - 3s 108ms/step - loss: 3.7793e-04\n",
            "Epoch 68/100\n",
            "28/28 [==============================] - 3s 120ms/step - loss: 3.6016e-04\n",
            "Epoch 69/100\n",
            "28/28 [==============================] - 3s 117ms/step - loss: 4.1884e-04\n",
            "Epoch 70/100\n",
            "28/28 [==============================] - 3s 112ms/step - loss: 3.8062e-04\n",
            "Epoch 71/100\n",
            "28/28 [==============================] - 3s 112ms/step - loss: 4.0424e-04\n",
            "Epoch 72/100\n",
            "28/28 [==============================] - 3s 111ms/step - loss: 3.5333e-04\n",
            "Epoch 73/100\n",
            "28/28 [==============================] - 3s 113ms/step - loss: 4.3708e-04\n",
            "Epoch 74/100\n",
            "28/28 [==============================] - 3s 116ms/step - loss: 3.4162e-04\n",
            "Epoch 75/100\n",
            "28/28 [==============================] - 3s 113ms/step - loss: 3.5610e-04\n",
            "Epoch 76/100\n",
            "28/28 [==============================] - 3s 108ms/step - loss: 3.3516e-04\n",
            "Epoch 77/100\n",
            "28/28 [==============================] - 3s 110ms/step - loss: 4.2344e-04\n",
            "Epoch 78/100\n",
            "28/28 [==============================] - 3s 111ms/step - loss: 4.0482e-04\n",
            "Epoch 79/100\n",
            "28/28 [==============================] - 3s 112ms/step - loss: 3.7218e-04\n",
            "Epoch 80/100\n",
            "28/28 [==============================] - 3s 110ms/step - loss: 3.7000e-04\n",
            "Epoch 81/100\n",
            "28/28 [==============================] - 3s 109ms/step - loss: 3.7443e-04\n",
            "Epoch 82/100\n",
            "28/28 [==============================] - 3s 109ms/step - loss: 3.8388e-04\n",
            "Epoch 83/100\n",
            "28/28 [==============================] - 3s 108ms/step - loss: 3.6102e-04\n",
            "Epoch 84/100\n",
            "28/28 [==============================] - 3s 109ms/step - loss: 3.6449e-04\n",
            "Epoch 85/100\n",
            "28/28 [==============================] - 3s 110ms/step - loss: 3.4946e-04\n",
            "Epoch 86/100\n",
            "28/28 [==============================] - 3s 108ms/step - loss: 3.3428e-04\n",
            "Epoch 87/100\n",
            "28/28 [==============================] - 3s 108ms/step - loss: 3.2138e-04\n",
            "Epoch 88/100\n",
            "28/28 [==============================] - 3s 108ms/step - loss: 3.3649e-04\n",
            "Epoch 89/100\n",
            "28/28 [==============================] - 3s 109ms/step - loss: 3.2240e-04\n",
            "Epoch 90/100\n",
            "28/28 [==============================] - 3s 107ms/step - loss: 3.3970e-04\n",
            "Epoch 91/100\n",
            "28/28 [==============================] - 3s 110ms/step - loss: 3.3920e-04\n",
            "Epoch 92/100\n",
            "28/28 [==============================] - 3s 109ms/step - loss: 3.3798e-04\n",
            "Epoch 93/100\n",
            "28/28 [==============================] - 3s 107ms/step - loss: 3.5958e-04\n",
            "Epoch 94/100\n",
            "28/28 [==============================] - 3s 108ms/step - loss: 3.0068e-04\n",
            "Epoch 95/100\n",
            "28/28 [==============================] - 3s 108ms/step - loss: 3.1592e-04\n",
            "Epoch 96/100\n",
            "28/28 [==============================] - 3s 107ms/step - loss: 3.2574e-04\n",
            "Epoch 97/100\n",
            "28/28 [==============================] - 3s 107ms/step - loss: 2.7729e-04\n",
            "Epoch 98/100\n",
            "28/28 [==============================] - 3s 106ms/step - loss: 3.0653e-04\n",
            "Epoch 99/100\n",
            "28/28 [==============================] - 3s 109ms/step - loss: 3.2775e-04\n",
            "Epoch 100/100\n",
            "28/28 [==============================] - 3s 110ms/step - loss: 3.0761e-04\n"
          ]
        },
        {
          "output_type": "execute_result",
          "data": {
            "text/plain": [
              "<keras.callbacks.History at 0x7fe2fa8d65d0>"
            ]
          },
          "metadata": {},
          "execution_count": 30
        }
      ]
    },
    {
      "cell_type": "code",
      "metadata": {
        "colab": {
          "base_uri": "https://localhost:8080/"
        },
        "id": "UW7Y_4b4O2vo",
        "outputId": "0c09a719-6967-4d71-822a-0f91c605bc39"
      },
      "source": [
        "print(regressor.evaluate(X_train,y_train))\n",
        "print(regressor.evaluate(X_test,Y_test))"
      ],
      "execution_count": null,
      "outputs": [
        {
          "output_type": "stream",
          "name": "stdout",
          "text": [
            "28/28 [==============================] - 3s 29ms/step - loss: 1.6858e-04\n",
            "0.00016858105664141476\n",
            "8/8 [==============================] - 0s 27ms/step - loss: 6.2206e-04\n",
            "0.0006220625946298242\n"
          ]
        }
      ]
    },
    {
      "cell_type": "code",
      "metadata": {
        "id": "fBu-u5NN5cDW"
      },
      "source": [
        "related_predicted_stock_price = regressor.predict(X_test)\n",
        "related_predicted_stock_price = sc.inverse_transform(related_predicted_stock_price)"
      ],
      "execution_count": null,
      "outputs": []
    },
    {
      "cell_type": "code",
      "metadata": {
        "colab": {
          "base_uri": "https://localhost:8080/"
        },
        "id": "YDwsIiNh5g2x",
        "outputId": "4e5e1086-5a6d-43d8-a12e-6f53b0cf899d"
      },
      "source": [
        "# Visualising the results\n",
        "plt.figure(figsize = (18,9))\n",
        "plt.plot(df.loc[index:, 'Date'],dataset_test.values, color = 'black', label = company+'Stock Price')\n",
        "plt.plot(df.loc[index:, 'Date'],predicted_stock_price, color = 'red', label = 'EarlierPredicted '+company+' Stock Price')\n",
        "plt.plot(df.loc[index:, 'Date'],related_predicted_stock_price, color = 'green', label = 'Predicted '+company+' Stock Price')\n",
        "plt.title('Stock Price Prediction')\n",
        "plt.xticks(np.arange(0,240,30))\n",
        "plt.xlabel('Date')\n",
        "plt.ylabel('Stock Price in Dollars')\n",
        "plt.legend()\n",
        "plt.savefig('/content/drive/MyDrive/Major_Project/Results.png')\n",
        "plt.show()"
      ],
      "execution_count": null,
      "outputs": [
        {
          "output_type": "display_data",
          "data": {
            "image/png": "[encoded data removed]",
            "text/plain": [
              "<Figure size 1296x648 with 1 Axes>"
            ]
          },
          "metadata": {
            "needs_background": "light"
          }
        }
      ]
    },
    {
      "cell_type": "code",
      "metadata": {
        "colab": {
          "base_uri": "https://localhost:8080/"
        },
        "id": "2jSPzkEyQnjX",
        "outputId": "fc025bb3-a464-4381-b8bf-919ba86e7d76"
      },
      "source": [
        "#Getting RMSE\n",
        "rmse=np.sqrt(np.mean(((related_predicted_stock_price-dataset_test.values)**2)))\n",
        "print(\"Root mean square error is: \",rmse)"
      ],
      "execution_count": null,
      "outputs": [
        {
          "output_type": "stream",
          "name": "stdout",
          "text": [
            "Root mean square error is:  50.41635736329846\n"
          ]
        }
      ]
    },
    {
      "cell_type": "code",
      "metadata": {
        "colab": {
          "base_uri": "https://localhost:8080/"
        },
        "id": "wnIQavgnQvFd",
        "outputId": "3b45da40-5fb5-47ea-d40b-ded9af5fc64d"
      },
      "source": [
        "#Mean absolute percentage error\n",
        "mape=np.mean(np.abs((related_predicted_stock_price-dataset_test.values)/dataset_test.values))*100\n",
        "print(\"Mean absolute percentage error is: \",mape)"
      ],
      "execution_count": null,
      "outputs": [
        {
          "output_type": "stream",
          "name": "stdout",
          "text": [
            "Mean absolute percentage error is:  1.8547043427672063\n"
          ]
        }
      ]
    }
  ]
}