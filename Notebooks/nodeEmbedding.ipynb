{
 "cells": [
  {
   "cell_type": "code",
   "execution_count": 4,
   "id": "682b51b5",
   "metadata": {},
   "outputs": [
    {
     "name": "stdout",
     "output_type": "stream",
     "text": [
      "Requirement already satisfied: pandas in ./jupyterenv/lib/python3.8/site-packages (1.3.3)\n",
      "Requirement already satisfied: pytz>=2017.3 in ./jupyterenv/lib/python3.8/site-packages (from pandas) (2021.1)\n",
      "Requirement already satisfied: numpy>=1.17.3 in ./jupyterenv/lib/python3.8/site-packages (from pandas) (1.21.2)\n",
      "Requirement already satisfied: python-dateutil>=2.7.3 in ./jupyterenv/lib/python3.8/site-packages (from pandas) (2.8.2)\n",
      "Requirement already satisfied: six>=1.5 in ./jupyterenv/lib/python3.8/site-packages (from python-dateutil>=2.7.3->pandas) (1.16.0)\n",
      "Requirement already satisfied: openpyxl in ./jupyterenv/lib/python3.8/site-packages (3.0.9)\n",
      "Requirement already satisfied: et-xmlfile in ./jupyterenv/lib/python3.8/site-packages (from openpyxl) (1.1.0)\n",
      "Requirement already satisfied: networkx in ./jupyterenv/lib/python3.8/site-packages (2.6.3)\n",
      "Requirement already satisfied: node2vec in ./jupyterenv/lib/python3.8/site-packages (0.4.3)\n",
      "Requirement already satisfied: gensim in ./jupyterenv/lib/python3.8/site-packages (from node2vec) (4.1.2)\n",
      "Requirement already satisfied: numpy in ./jupyterenv/lib/python3.8/site-packages (from node2vec) (1.21.2)\n",
      "Requirement already satisfied: networkx in ./jupyterenv/lib/python3.8/site-packages (from node2vec) (2.6.3)\n",
      "Requirement already satisfied: tqdm in ./jupyterenv/lib/python3.8/site-packages (from node2vec) (4.62.3)\n",
      "Requirement already satisfied: joblib>=0.13.2 in ./jupyterenv/lib/python3.8/site-packages (from node2vec) (1.0.1)\n",
      "Requirement already satisfied: scipy>=0.18.1 in ./jupyterenv/lib/python3.8/site-packages (from gensim->node2vec) (1.7.1)\n",
      "Requirement already satisfied: smart-open>=1.8.1 in ./jupyterenv/lib/python3.8/site-packages (from gensim->node2vec) (5.2.1)\n",
      "Requirement already satisfied: numpy in ./jupyterenv/lib/python3.8/site-packages (1.21.2)\n"
     ]
    }
   ],
   "source": [
    "!pip3 install pandas\n",
    "!pip3 install openpyxl\n",
    "!pip3 install networkx\n",
    "!pip3 install node2vec\n",
    "!pip3 install numpy"
   ]
  },
  {
   "cell_type": "code",
   "execution_count": 5,
   "id": "7cc46d11",
   "metadata": {},
   "outputs": [
    {
     "name": "stdout",
     "output_type": "stream",
     "text": [
      "    Unnamed: 0         A       AAL       AAP      AAPL      ABBV       ABC  \\\n",
      "0            A  0.000000  0.213315  0.209926  0.249060  0.262888  0.201703   \n",
      "1          AAL  0.213315  0.000000  0.202833  0.208419  0.219896  0.195130   \n",
      "2          AAP  0.209926  0.202833  0.000000  0.195954  0.206448  0.194240   \n",
      "3         AAPL  0.249060  0.208419  0.195954  0.000000  0.292551  0.206280   \n",
      "4         ABBV  0.262888  0.219896  0.206448  0.292551  0.000000  0.244404   \n",
      "..         ...       ...       ...       ...       ...       ...       ...   \n",
      "498        YUM  0.302889  0.200898  0.198169  0.255640  0.294928  0.223048   \n",
      "499        ZBH  0.260228  0.216775  0.216879  0.214054  0.258673  0.233350   \n",
      "500       ZBRA  0.230499  0.205259  0.219511  0.220815  0.252338  0.247341   \n",
      "501       ZION  0.292645  0.211573  0.225825  0.204694  0.235036  0.231129   \n",
      "502        ZTS  0.277432  0.194883  0.209135  0.227457  0.241104  0.208089   \n",
      "\n",
      "         ABMD       ABT       ACN  ...       XEL      XLNX       XOM  \\\n",
      "0    0.253591  0.216073  0.237293  ...  0.232481  0.282552  0.221314   \n",
      "1    0.269572  0.221123  0.224185  ...  0.225908  0.240236  0.224987   \n",
      "2    0.228240  0.207361  0.210155  ...  0.221851  0.226267  0.212454   \n",
      "3    0.207110  0.214414  0.236669  ...  0.217434  0.247420  0.259463   \n",
      "4    0.217604  0.225891  0.248189  ...  0.272631  0.262007  0.262436   \n",
      "..        ...       ...       ...  ...       ...       ...       ...   \n",
      "498  0.209324  0.217416  0.206894  ...  0.339193  0.302346  0.219778   \n",
      "499  0.228035  0.297999  0.270156  ...  0.313525  0.246242  0.212249   \n",
      "500  0.230667  0.209787  0.233537  ...  0.270681  0.228693  0.237040   \n",
      "501  0.284055  0.234194  0.278623  ...  0.293744  0.235007  0.221195   \n",
      "502  0.220290  0.219988  0.223573  ...  0.236083  0.291836  0.244775   \n",
      "\n",
      "         XRAY       XYL       YUM       ZBH      ZBRA      ZION       ZTS  \n",
      "0    0.291073  0.280732  0.302889  0.260228  0.230499  0.292645  0.277432  \n",
      "1    0.209586  0.237368  0.200898  0.216775  0.205259  0.211573  0.194883  \n",
      "2    0.271518  0.234198  0.198169  0.216879  0.219511  0.225825  0.209135  \n",
      "3    0.244900  0.228893  0.255640  0.214054  0.220815  0.204694  0.227457  \n",
      "4    0.258504  0.239611  0.294928  0.258673  0.252338  0.235036  0.241104  \n",
      "..        ...       ...       ...       ...       ...       ...       ...  \n",
      "498  0.298312  0.246980  0.000000  0.304881  0.227980  0.233156  0.278413  \n",
      "499  0.272113  0.233992  0.304881  0.000000  0.252245  0.278336  0.231823  \n",
      "500  0.226264  0.259487  0.227980  0.252245  0.000000  0.250024  0.236171  \n",
      "501  0.232578  0.281156  0.233156  0.278336  0.250024  0.000000  0.217875  \n",
      "502  0.262668  0.248523  0.278413  0.231823  0.236171  0.217875  0.000000  \n",
      "\n",
      "[503 rows x 504 columns]\n"
     ]
    }
   ],
   "source": [
    "import os\n",
    "import pandas as pd\n",
    "import numpy as np\n",
    "from pandas import ExcelWriter\n",
    "from pandas import ExcelFile\n",
    "\n",
    "current_dir = os.getcwd()\n",
    "parent_dir = os.path.abspath(os.path.join(current_dir, os.pardir))\n",
    "final_dir = os.path.join(parent_dir,\"Graphs/Corporation_Network/Corporation_network.xlsx\")\n",
    "\n",
    "df = pd.read_excel(final_dir,\"Sheet1\")\n",
    "print(df)"
   ]
  },
  {
   "cell_type": "code",
   "execution_count": null,
   "id": "8d2e115c",
   "metadata": {},
   "outputs": [
    {
     "name": "stdout",
     "output_type": "stream",
     "text": [
      "['A', 'AAL', 'AAP', 'AAPL', 'ABBV', 'ABC', 'ABMD', 'ABT', 'ACN', 'ADBE', 'ADI', 'ADM', 'ADP', 'ADSK', 'AEE', 'AEP', 'AES', 'AFL', 'AIG', 'AIZ', 'AJG', 'AKAM', 'ALB', 'ALGN', 'ALK', 'ALL', 'ALLE', 'AMAT', 'AMCR', 'AMD', 'AME', 'AMGN', 'AMP', 'AMT', 'AMZN', 'ANET', 'ANSS', 'ANTM', 'AON', 'AOS', 'APA', 'APD', 'APH', 'APTV', 'ARE', 'ATO', 'ATVI', 'AVB', 'AVGO', 'AVY', 'AWK', 'AXP', 'AZO', 'BA', 'BAC', 'BAX', 'BBWI', 'BBY', 'BDX', 'BEN', 'BIIB', 'BIO', 'BK', 'BKNG', 'BKR', 'BLK', 'BLL', 'BMY', 'BR', 'BSX', 'BWA', 'BXP', 'C', 'CAG', 'CAH', 'CARR', 'CAT', 'CB', 'CBOE', 'CBRE', 'CCI', 'CCL', 'CDNS', 'CDW', 'CE', 'CERN', 'CF', 'CFG', 'CHD', 'CHRW', 'CHTR', 'CI', 'CINF', 'CL', 'CLX', 'CMA', 'CMCSA', 'CME', 'CMG', 'CMI', 'CMS', 'CNC', 'CNP', 'COF', 'COG', 'COO', 'COP', 'COST', 'CPB', 'CPRT', 'CRL', 'CRM', 'CSCO', 'CSX', 'CTAS', 'CTLT', 'CTSH', 'CTVA', 'CTXS', 'CVS', 'CVX', 'CZR', 'D', 'DAL', 'DD', 'DE', 'DFS', 'DG', 'DGX', 'DHI', 'DHR', 'DIS', 'DISCA', 'DISCK', 'DISH', 'DLR', 'DLTR', 'DOV', 'DOW', 'DPZ', 'DRE', 'DRI', 'DTE', 'DUK', 'DVA', 'DVN', 'DXC', 'DXCM', 'EA', 'EBAY', 'ECL', 'ED', 'EFX', 'EIX', 'EL', 'EMN', 'EMR', 'ENPH', 'EOG', 'EQIX', 'EQR', 'ES', 'ESS', 'ETN', 'ETR', 'ETSY', 'EVRG', 'EW', 'EXC', 'EXPD', 'EXPE', 'EXR', 'F', 'FANG', 'FAST', 'FB', 'FBHS', 'FCX', 'FDX', 'FE', 'FFIV', 'FIS', 'FISV', 'FITB', 'FLT', 'FMC', 'FOX', 'FOXA', 'FRC', 'FRT', 'FTNT', 'FTV', 'GD', 'GE', 'GILD', 'GIS', 'GL', 'GLW', 'GM', 'GNRC', 'GOOG', 'GOOGL', 'GPC', 'GPN', 'GPS', 'GRMN', 'GS', 'GWW', 'HAL', 'HAS', 'HBAN', 'HBI', 'HCA', 'HD', 'HES', 'HIG', 'HII', 'HLT', 'HOLX', 'HON', 'HPE', 'HPQ', 'HRL', 'HSIC', 'HST', 'HSY', 'HUM', 'HWM', 'IBM', 'ICE', 'IDXX', 'IEX', 'IFF', 'ILMN', 'INCY', 'INFO', 'INTC', 'INTU', 'IP', 'IPG', 'IPGP', 'IQV', 'IR', 'IRM', 'ISRG', 'IT', 'ITW', 'IVZ', 'J', 'JBHT', 'JCI', 'JKHY', 'JNJ', 'JNPR', 'JPM', 'K', 'KEY', 'KEYS', 'KHC', 'KIM', 'KLAC', 'KMB', 'KMI', 'KMX', 'KO', 'KR', 'KSU', 'L', 'LDOS', 'LEG', 'LEN', 'LH', 'LHX', 'LIN', 'LKQ', 'LLY', 'LMT', 'LNC', 'LNT', 'LOW', 'LRCX', 'LUMN', 'LUV', 'LVS', 'LW', 'LYB', 'LYV', 'MA', 'MAA', 'MAR', 'MAS', 'MCD', 'MCHP', 'MCK', 'MCO', 'MDLZ', 'MDT', 'MET', 'MGM', 'MHK', 'MKC', 'MKTX', 'MLM', 'MMC', 'MMM', 'MNST', 'MO', 'MOS', 'MPC', 'MPWR', 'MRK', 'MRNA', 'MRO', 'MS', 'MSCI', 'MSFT', 'MSI', 'MTB', 'MTD', 'MU', 'MXIM', 'NCLH', 'NDAQ', 'NEE', 'NEM', 'NFLX', 'NI', 'NKE', 'NLOK', 'NLSN', 'NOC', 'NOV', 'NOW', 'NRG', 'NSC', 'NTAP', 'NTRS', 'NUE', 'NVDA', 'NVR', 'NWL', 'NWS', 'NWSA', 'NXPI', 'O', 'ODFL', 'OGN', 'OKE', 'OMC', 'ORCL', 'ORLY', 'OTIS', 'OXY', 'PAYC', 'PAYX', 'PBCT', 'PCAR', 'PEAK', 'PEG', 'PENN', 'PEP', 'PFE', 'PFG', 'PG', 'PGR', 'PH', 'PHM', 'PKG', 'PKI', 'PLD', 'PM', 'PNC', 'PNR', 'PNW', 'POOL', 'PPG', 'PPL', 'PRGO', 'PRU', 'PSA', 'PSX', 'PTC', 'PVH', 'PWR', 'PXD', 'PYPL', 'QCOM', 'QRVO', 'RCL', 'RE', 'REG', 'REGN', 'RF', 'RHI', 'RJF', 'RL', 'RMD', 'ROK', 'ROL', 'ROP', 'ROST', 'RSG', 'RTX', 'SBAC', 'SBUX', 'SCHW', 'SEE', 'SHW', 'SIVB', 'SJM', 'SLB', 'SNA', 'SNPS', 'SO', 'SPG', 'SPGI', 'SRE', 'STE', 'STT', 'STX', 'STZ', 'SWK', 'SWKS', 'SYF', 'SYK', 'SYY', 'T', 'TAP', 'TDG', 'TDY', 'TEL', 'TER', 'TFC', 'TFX', 'TGT', 'TJX', 'TMO', 'TMUS', 'TPR', 'TRMB', 'TROW', 'TRV', 'TSCO', 'TSLA', 'TSN', 'TT', 'TTWO', 'TWTR', 'TXN', 'TXT', 'TYL', 'UA', 'UAA', 'UAL', 'UDR', 'UHS', 'ULTA', 'UNH', 'UNM', 'UNP', 'UPS', 'URI', 'USB', 'V', 'VFC', 'VIAC', 'VLO', 'VMC', 'VNO', 'VRSK', 'VRSN', 'VRTX', 'VTR', 'VTRS', 'VZ', 'WAB', 'WAT', 'WBA', 'WDC', 'WEC', 'WELL', 'WFC', 'WHR', 'WLTW', 'WM', 'WMB', 'WMT', 'WRB', 'WRK', 'WST', 'WU', 'WY', 'WYNN', 'XEL', 'XLNX', 'XOM', 'XRAY', 'XYL', 'YUM', 'ZBH', 'ZBRA', 'ZION', 'ZTS']\n",
      "[[0.         0.21331462 0.20992563 ... 0.23049939 0.29264474 0.27743244]\n",
      " [0.21331462 0.         0.20283277 ... 0.20525909 0.21157317 0.19488264]\n",
      " [0.20992563 0.20283277 0.         ... 0.21951105 0.22582512 0.2091346 ]\n",
      " ...\n",
      " [0.23049939 0.20525909 0.21951105 ... 0.         0.25002394 0.23617117]\n",
      " [0.29264474 0.21157317 0.22582512 ... 0.25002394 0.         0.217875  ]\n",
      " [0.27743244 0.19488264 0.2091346  ... 0.23617117 0.217875   0.        ]]\n",
      "Graph with 503 nodes and 126253 edges\n"
     ]
    },
    {
     "data": {
      "application/vnd.jupyter.widget-view+json": {
       "model_id": "10caf26b47ee4f0a9c222e6b10b83679",
       "version_major": 2,
       "version_minor": 0
      },
      "text/plain": [
       "Computing transition probabilities:   0%|          | 0/503 [00:00<?, ?it/s]"
      ]
     },
     "metadata": {},
     "output_type": "display_data"
    }
   ],
   "source": [
    "import networkx as nx\n",
    "from node2vec import Node2Vec\n",
    "\n",
    "# Numpy array from dataframe\n",
    "np_arr = df.to_numpy()\n",
    "final_np = np.empty([503,503])\n",
    "ordered_companies = []\n",
    "\n",
    "ind = 0\n",
    "for arr in np_arr:\n",
    "    final_np[ind] = arr[1:]\n",
    "    ordered_companies.append(arr[0])\n",
    "    ind += 1\n",
    "print(ordered_companies)\n",
    "print(final_np)\n",
    "\n",
    "# Numpy array(after removing company names) is fed into function to create networkx graph\n",
    "graph = nx.from_numpy_matrix(final_np)\n",
    "print(graph)\n",
    "\n",
    "# Networkx graph is embedded using node2vec\n",
    "node2vec = Node2Vec(graph, dimensions=64, walk_length=30, num_walks=200, workers=4)\n",
    "print(node2vec)"
   ]
  }
 ],
 "metadata": {
  "kernelspec": {
   "display_name": "Python 3 (ipykernel)",
   "language": "python",
   "name": "python3"
  },
  "language_info": {
   "codemirror_mode": {
    "name": "ipython",
    "version": 3
   },
   "file_extension": ".py",
   "mimetype": "text/x-python",
   "name": "python",
   "nbconvert_exporter": "python",
   "pygments_lexer": "ipython3",
   "version": "3.8.10"
  }
 },
 "nbformat": 4,
 "nbformat_minor": 5
}
